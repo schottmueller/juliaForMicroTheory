{
 "cells": [
  {
   "cell_type": "markdown",
   "metadata": {},
   "source": [
    "This notebook contains some economic applications using the methods in the previous notebooks."
   ]
  },
  {
   "cell_type": "markdown",
   "metadata": {},
   "source": [
    "# Monopoly pricing"
   ]
  },
  {
   "cell_type": "markdown",
   "metadata": {},
   "source": [
    "A monopolist face the demand function\n",
    "$$Q(p)=1-p^\\alpha$$\n",
    "if $p^\\alpha<1$ and 0 else. That is, $Q(p)=\\max (0,1-p^\\alpha)$. The monopolist has costs \n",
    "$$c(q)=q^2$$\n",
    "where $q$ is the produced quantity. What is the profit maximizing price? How does it depend on the demand parameter $\\alpha$?\n",
    "\n",
    "First, we set up the functions and load the Plots and Optim packages which we will use in a second:"
   ]
  },
  {
   "cell_type": "code",
   "execution_count": 1,
   "metadata": {},
   "outputs": [
    {
     "data": {
      "text/plain": [
       "pi (generic function with 1 method)"
      ]
     },
     "execution_count": 1,
     "metadata": {},
     "output_type": "execute_result"
    }
   ],
   "source": [
    "using Plots\n",
    "Plots.pyplot()\n",
    "using Optim\n",
    "\n",
    "#demand function\n",
    "function q(p,alpha)\n",
    "    return max(0,1-p^alpha) #max(a,b) returns the higher of the two number a and b\n",
    "end\n",
    "\n",
    "#cost function\n",
    "c(q)=q^2\n",
    "\n",
    "#profit function\n",
    "pi(p,alpha) = p*q(p,alpha)-c(q(p,alpha))"
   ]
  },
  {
   "cell_type": "markdown",
   "metadata": {},
   "source": [
    "Note that the profit depends on the parameter $\\alpha$ because the demand function does. To get a better idea about the demand function I am next going to plot the demand function for three different values of $\\alpha$, namely 0.5, 1.0 and 2.0."
   ]
  },
  {
   "cell_type": "code",
   "execution_count": 2,
   "metadata": {},
   "outputs": [
    {
     "data": {
      "image/png": "[encoded data removed]"
     },
     "execution_count": 2,
     "metadata": {},
     "output_type": "execute_result"
    }
   ],
   "source": [
    "using LaTeXStrings\n",
    "plot([p->q(p,0.5), p->q(p,1.0), p->q(p,2.0)],0.0,1.0,linestyle=[:dash :solid :dot],xlabel=\"p\",ylabel=\"demand\",label=[L\"\\alpha=0.5\" L\"\\alpha=1\" L\"\\alpha=2\"])"
   ]
  },
  {
   "cell_type": "markdown",
   "metadata": {},
   "source": [
    "Now we turn to maximizing the monopolist's profit. We us Optim for this but Optima can only maximize profits for a given level of $\\alpha$. Therefore, I will write a function \"maximizePi\" that takes an argument $\\alpha$ and then maximizes profits given this $\\alpha$."
   ]
  },
  {
   "cell_type": "code",
   "execution_count": 3,
   "metadata": {},
   "outputs": [
    {
     "data": {
      "text/plain": [
       "maximizePi (generic function with 1 method)"
      ]
     },
     "execution_count": 3,
     "metadata": {},
     "output_type": "execute_result"
    }
   ],
   "source": [
    "function maximizePi(alpha)\n",
    "    pStar = optimize(p->-pi(p,alpha),0.0,1.0)\n",
    "    return pStar\n",
    "end"
   ]
  },
  {
   "cell_type": "markdown",
   "metadata": {},
   "source": [
    "What happens inside the maximizePi function? Say you call the function with 0.5, i.e. \"maximizePi(0.5)\". Julia will then execute the code inside the function but wherever the code says alpha julia will put 0.5. The first line inside function becomes therefore \"pStar = optimize(p->-pi(p,0.5),0.0,1.0)\". This means julia creates a variable pStar inside the function and assigns to it the output of \"optimize(p->-pi(p,0.5),0.0,1.0)\". Recall that optimize takes three arguments: first the function to be minimized, second a lower bound for the variable over which it maximizes and third an upper bound for this variable. We use the anonymous function trick from notebook 4 here to create a function on the spot with \"p->-pi(p,0.5)\", that is, this function assigns to every p minus the value of pi(p,0.5). Recall that optimize minimizes the function and as we want to maximize we take the negative of the profit function (minimizing -profits leads to the same optimizer as maximizing profits). I have chosen 0.0 (1.0) as lower (upper) bound for p because from the plot of the demand function it is clear that any higher price than 1.0 will lead to zero demand and therefore zero profits.\n",
    "The first line within maximizePi will therefore minimize -pi given the alpha we put into the function and restricting the price to be between 0.0 and 1.0. This output is assigned to the variable pStar. The second line simply returns this output.\n",
    "\n",
    "Let us try what is the optimal price if $\\alpha=1.0$ and demand is linear."
   ]
  },
  {
   "cell_type": "code",
   "execution_count": 4,
   "metadata": {},
   "outputs": [
    {
     "data": {
      "text/plain": [
       "Results of Optimization Algorithm\n",
       " * Algorithm: Brent's Method\n",
       " * Search Interval: [0.000000, 1.000000]\n",
       " * Minimizer: 7.500000e-01\n",
       " * Minimum: -1.250000e-01\n",
       " * Iterations: 5\n",
       " * Convergence: max(|x - x_upper|, |x - x_lower|) <= 2*(1.5e-08*|x|+2.2e-16): true\n",
       " * Objective Function Calls: 6"
      ]
     },
     "execution_count": 4,
     "metadata": {},
     "output_type": "execute_result"
    }
   ],
   "source": [
    "maximizePi(1.0)"
   ]
  },
  {
   "cell_type": "markdown",
   "metadata": {},
   "source": [
    "The result is \"7.500000e-01\". You have to know that e-01 means $*10^{-1}$, i.e. divide by 10. The optimal price is therefore 0.75.\n",
    "\n",
    "Now let us plot the optimal price for a range of $\\alpha$ values. You might try this first and you might be anoyed that it does not work:"
   ]
  },
  {
   "cell_type": "code",
   "execution_count": 5,
   "metadata": {},
   "outputs": [
    {
     "ename": "MethodError",
     "evalue": "MethodError: no method matching Float64(::Optim.UnivariateOptimizationResults{Float64,Float64,Float64,Float64,Float64,Brent})\nClosest candidates are:\n  Float64(!Matched::Int8) at float.jl:60\n  Float64(!Matched::Int16) at float.jl:60\n  Float64(!Matched::Int32) at float.jl:60\n  ...",
     "output_type": "error",
     "traceback": [
      "MethodError: no method matching Float64(::Optim.UnivariateOptimizationResults{Float64,Float64,Float64,Float64,Float64,Brent})\nClosest candidates are:\n  Float64(!Matched::Int8) at float.jl:60\n  Float64(!Matched::Int16) at float.jl:60\n  Float64(!Matched::Int32) at float.jl:60\n  ...",
      "",
      "Stacktrace:",
      " [1] (::getfield(Plots, Symbol(\"##104#105\")){Symbol})(::Optim.UnivariateOptimizationResults{Float64,Float64,Float64,Float64,Float64,Brent}) at /home/christoph/.julia/packages/Plots/Iuc9S/src/axes.jl:151",
      " [2] (::getfield(Base, Symbol(\"##58#59\")){getfield(Plots, Symbol(\"##104#105\")){Symbol},typeof(maximizePi)})(::Float64) at ./operators.jl:873 (repeats 2 times)",
      " [3] _broadcast_getindex_evalf at ./broadcast.jl:625 [inlined]",
      " [4] _broadcast_getindex at ./broadcast.jl:598 [inlined]",
      " [5] getindex at ./broadcast.jl:558 [inlined]",
      " [6] copy at ./broadcast.jl:832 [inlined]",
      " [7] materialize at ./broadcast.jl:798 [inlined]",
      " [8] #adapted_grid#25(::Int64, ::typeof(adapted_grid), ::getfield(Base, Symbol(\"##58#59\")){getfield(Base, Symbol(\"##58#59\")){getfield(Plots, Symbol(\"##104#105\")){Symbol},typeof(maximizePi)},getfield(Plots, Symbol(\"##106#107\")){Symbol}}, ::Tuple{Float64,Float64}) at /home/christoph/.julia/packages/PlotUtils/QR8NK/src/adapted_grid.jl:42",
      " [9] adapted_grid(::Function, ::Tuple{Float64,Float64}) at /home/christoph/.julia/packages/PlotUtils/QR8NK/src/adapted_grid.jl:15",
      " [10] _scaled_adapted_grid(::Function, ::Symbol, ::Symbol, ::Float64, ::Float64) at /home/christoph/.julia/packages/Plots/Iuc9S/src/series.jl:534",
      " [11] macro expansion at /home/christoph/.julia/packages/Plots/Iuc9S/src/series.jl:518 [inlined]",
      " [12] apply_recipe(::Dict{Symbol,Any}, ::Function, ::Float64, ::Float64) at /home/christoph/.julia/packages/RecipesBase/zBoFG/src/RecipesBase.jl:275",
      " [13] _process_userrecipes(::Plots.Plot{Plots.PyPlotBackend}, ::Dict{Symbol,Any}, ::Tuple{typeof(maximizePi),Float64,Float64}) at /home/christoph/.julia/packages/Plots/Iuc9S/src/pipeline.jl:83",
      " [14] _plot!(::Plots.Plot{Plots.PyPlotBackend}, ::Dict{Symbol,Any}, ::Tuple{typeof(maximizePi),Float64,Float64}) at /home/christoph/.julia/packages/Plots/Iuc9S/src/plot.jl:178",
      " [15] #plot#137(::Base.Iterators.Pairs{Symbol,Any,NTuple{4,Symbol},NamedTuple{(:xlabel, :ylabel, :ylim, :label),Tuple{LaTeXString,LaTeXString,Tuple{Float64,Float64},String}}}, ::typeof(plot), ::Function, ::Vararg{Any,N} where N) at /home/christoph/.julia/packages/Plots/Iuc9S/src/plot.jl:57",
      " [16] (::getfield(RecipesBase, Symbol(\"#kw##plot\")))(::NamedTuple{(:xlabel, :ylabel, :ylim, :label),Tuple{LaTeXString,LaTeXString,Tuple{Float64,Float64},String}}, ::typeof(plot), ::Function, ::Float64, ::Vararg{Float64,N} where N) at ./none:0",
      " [17] top-level scope at In[5]:1"
     ]
    }
   ],
   "source": [
    "plot(maximizePi,0.5,2.0,xlabel=L\"\\alpha\",ylabel=L\"$p^*$\",ylim=(0.0,1.0),label=\"monopoly price\")"
   ]
  },
  {
   "cell_type": "markdown",
   "metadata": {},
   "source": [
    "The problem is that the output of maximizePi is currently the whole output of optimize. This is not only the optimal price but all kind of information on convergence of the algorithm and other stuff (see the output of maximizePi(1.0) above). Given all this output, Plots simply doe snto know what it should plot!\n",
    "\n",
    "We will resolve this by changing the maximizePi function such that it only spits out the optimal price and not all the other information. I call this function maximizePiPlot."
   ]
  },
  {
   "cell_type": "code",
   "execution_count": 6,
   "metadata": {},
   "outputs": [
    {
     "data": {
      "image/png": "[encoded data removed]"
     },
     "execution_count": 6,
     "metadata": {},
     "output_type": "execute_result"
    }
   ],
   "source": [
    "function maximizePiPlot(alpha)\n",
    "    pStar = optimize(p->-pi(p,alpha),0.0,1.0).minimizer\n",
    "    return pStar\n",
    "end\n",
    "plot(maximizePiPlot,0.5,2.0,xlabel=L\"\\alpha\",ylabel=L\"$p^*$\",ylim=(0.0,1.0),label=\"monopoly price\")"
   ]
  },
  {
   "cell_type": "markdown",
   "metadata": {},
   "source": [
    "Looks like the monopoly price is concavely increasing in $\\alpha$.\n",
    "\n",
    "The big difference between maxmizePi and maximizePiPlot is that I added \".minimizer\" to the optimize command. \"optimize(p->-pi(p,alpha),0.0,1.0).minimizer\" is the price minimizing minus profits (and all the other information like algorithm convergence and value of the minimum etc. is no longer returned).\n",
    "\n",
    "You can see this also when evaluating maximizePiPlot on its own: Only the optimal price is returned."
   ]
  },
  {
   "cell_type": "code",
   "execution_count": 7,
   "metadata": {},
   "outputs": [
    {
     "data": {
      "text/plain": [
       "0.7499999999999999"
      ]
     },
     "execution_count": 7,
     "metadata": {},
     "output_type": "execute_result"
    }
   ],
   "source": [
    "maximizePiPlot(1.0)"
   ]
  },
  {
   "cell_type": "markdown",
   "metadata": {},
   "source": [
    "# Cournot Equilibrium"
   ]
  },
  {
   "cell_type": "markdown",
   "metadata": {
    "collapsed": true
   },
   "source": [
    "Here we will calculate the Cournot equilibrium with three firms that have linear but heterogenous marginal costs of production. More precisely, three firms set quantities $q_i$ leading to the market quantity $Q=q_1+q_2+q_3$ and the resulting price $P(Q)=max(0,1-Q)$. Firm $i$'s profit equals $(P(Q)-c_i)*q_i$ where $c_i$ is the firm specific marginal costs or production. Clearly, this model could be solved by hand but it is a nice illustration of how to set up best response functions and derive an equilibrium from there.\n",
    "\n",
    "First, we set up the demand and the best response function of firm $i$."
   ]
  },
  {
   "cell_type": "code",
   "execution_count": 8,
   "metadata": {},
   "outputs": [
    {
     "data": {
      "text/plain": [
       "bestResponse (generic function with 1 method)"
      ]
     },
     "execution_count": 8,
     "metadata": {},
     "output_type": "execute_result"
    }
   ],
   "source": [
    "using Optim\n",
    "\n",
    "P(Q)=max(0.0,1.0-Q)\n",
    "\n",
    "function bestResponse(qOther,ci)\n",
    "    minusPi(qi)=-(P(qOther+qi)-ci)*qi\n",
    "    br = optimize(minusPi,0.0,1.0).minimizer\n",
    "    return br\n",
    "end"
   ]
  },
  {
   "cell_type": "markdown",
   "metadata": {},
   "source": [
    "To recap: The best response function takes the quantity of the other players and firm $i$'s own marginal costs as arguments. In the bestResponse function I first set up a function minusPi which is the negative of firm $i$'s profit. This function depends only on $q_i$ because we now take qOther as given. Then the best response quantity is calculated using the optimizes command. We end this command with \".minimizer\" in order to get only the best respoonse quantity and not all the  information about the minimum. convergence etc. Finally, this best response quantity is returned.\n",
    "\n",
    "An equilibrium is simply a situation where all firms play best response. Put differently, best response to the other's quantities minus your own quantity equals zero. This is a system of equations characterizing an equilibrium. We will use the Roots package to solve this system of equations and thereby obtaining the equilibrium."
   ]
  },
  {
   "cell_type": "code",
   "execution_count": 10,
   "metadata": {},
   "outputs": [
    {
     "name": "stdout",
     "output_type": "stream",
     "text": [
      "\u001b[32m\u001b[1m  Updating\u001b[22m\u001b[39m registry at `~/.julia/registries/General`\n",
      "\u001b[32m\u001b[1m  Updating\u001b[22m\u001b[39m git-repo `https://github.com/JuliaRegistries/General.git`\n",
      "\u001b[?25l\u001b[2K\u001b[?25h\u001b[32m\u001b[1m Resolving\u001b[22m\u001b[39m package versions...\n",
      "\u001b[32m\u001b[1m Installed\u001b[22m\u001b[39m Distances ─ v0.8.2\n",
      "\u001b[32m\u001b[1m Installed\u001b[22m\u001b[39m NLsolve ─── v4.1.0\n",
      "\u001b[32m\u001b[1m  Updating\u001b[22m\u001b[39m `~/.julia/environments/v1.2/Project.toml`\n",
      " \u001b[90m [2774e3e8]\u001b[39m\u001b[92m + NLsolve v4.1.0\u001b[39m\n",
      "\u001b[32m\u001b[1m  Updating\u001b[22m\u001b[39m `~/.julia/environments/v1.2/Manifest.toml`\n",
      " \u001b[90m [b4f34e82]\u001b[39m\u001b[92m + Distances v0.8.2\u001b[39m\n",
      " \u001b[90m [2774e3e8]\u001b[39m\u001b[92m + NLsolve v4.1.0\u001b[39m\n"
     ]
    },
    {
     "name": "stderr",
     "output_type": "stream",
     "text": [
      "┌ Info: Precompiling NLsolve [2774e3e8-f4cf-5e23-947b-6d7e65073b56]\n",
      "└ @ Base loading.jl:1242\n"
     ]
    },
    {
     "data": {
      "text/plain": [
       "Results of Nonlinear Solver Algorithm\n",
       " * Algorithm: Trust-region with dogleg and autoscaling\n",
       " * Starting Point: [0.2, 0.2, 0.2]\n",
       " * Zero: [0.4, 0.3500000052154067, 0.29999999552965134]\n",
       " * Inf-norm of residuals: 0.000000\n",
       " * Iterations: 0\n",
       " * Convergence: true\n",
       "   * |x - x'| < 0.0e+00: false\n",
       "   * |f(x)| < 1.0e-08: true\n",
       " * Function Calls (f): 1\n",
       " * Jacobian Calls (df/dx): 1"
      ]
     },
     "execution_count": 10,
     "metadata": {},
     "output_type": "execute_result"
    }
   ],
   "source": [
    "using Pkg\n",
    "Pkg.add(\"NLsolve\")\n",
    "using NLsolve\n",
    "\n",
    "function bestResponseMinusQ(q,c1,c2,c3)\n",
    "    br1 = bestResponse(q[2]+q[3],c1)\n",
    "    br2 = bestResponse(q[1]+q[3],c2)\n",
    "    br3 = bestResponse(q[1]+q[2],c3)\n",
    "    return [br1-q[1],br2-q[2],br3-q[3]]\n",
    "end\n",
    "\n",
    "function equilibrium(c1,c2,c3)\n",
    "    function brMinQInPlace!(q,brQminQ)\n",
    "        brs = bestResponseMinusQ(q,c1,c2,c3)\n",
    "        brQminQ[1]=brs[1]\n",
    "        brQminQ[2]=brs[2]\n",
    "        brQminQ[3]=brs[3]\n",
    "    end\n",
    "    result = nlsolve(brMinQInPlace!,[0.2,0.2,0.2])\n",
    "    return result\n",
    "end\n",
    "\n",
    "equilibrium(0.2,0.3,0.4)"
   ]
  },
  {
   "cell_type": "markdown",
   "metadata": {
    "collapsed": true
   },
   "source": [
    "The ouput field \"Zero\" gives the equilibrium quantities of the three firms. As expected, the equilibrium quantity of the low cost firm is higher than then quantities of the firms with higher costs."
   ]
  },
  {
   "cell_type": "code",
   "execution_count": null,
   "metadata": {
    "collapsed": true
   },
   "outputs": [],
   "source": []
  }
 ],
 "metadata": {
  "kernelspec": {
   "display_name": "Julia 1.2.0",
   "language": "julia",
   "name": "julia-1.2"
  },
  "language_info": {
   "file_extension": ".jl",
   "mimetype": "application/julia",
   "name": "julia",
   "version": "1.2.0"
  }
 },
 "nbformat": 4,
 "nbformat_minor": 2
}
