{
 "cells": [
  {
   "cell_type": "markdown",
   "metadata": {},
   "source": [
    "In this notebook I'll show how to \n",
    "- maximize/minimize a univariate function in julia using the optim package\n",
    "- how to define multivariate functions in julia and how to minimize those. \n",
    "\n",
    "(We do not cover general constraints but restrict ourselves to domain restrictions for now.)"
   ]
  },
  {
   "cell_type": "markdown",
   "metadata": {},
   "source": [
    "# Minimizing a univariate function"
   ]
  },
  {
   "cell_type": "markdown",
   "metadata": {},
   "source": [
    "We will find the minimum of the function $f(x)=(x-1)^2$. Admittedly, there is no need for using a computed to solve such a  simple problem but that makes it easier to show how to do it (and then you can use whatever complicated function you like).\n",
    "\n",
    "We will use the Optim package. So, if you have not installed it yet, you need to install it now:"
   ]
  },
  {
   "cell_type": "code",
   "execution_count": 1,
   "metadata": {},
   "outputs": [
    {
     "name": "stdout",
     "output_type": "stream",
     "text": [
      "\u001b[32m\u001b[1m  Updating\u001b[22m\u001b[39m registry at `~/.julia/registries/General`\n",
      "\u001b[32m\u001b[1m  Updating\u001b[22m\u001b[39m git-repo `https://github.com/JuliaRegistries/General.git`\n",
      "\u001b[?25l\u001b[2K\u001b[?25h\u001b[32m\u001b[1m Resolving\u001b[22m\u001b[39m package versions...\n",
      "\u001b[32m\u001b[1m  Updating\u001b[22m\u001b[39m `~/.julia/environments/v1.2/Project.toml`\n",
      "\u001b[90m [no changes]\u001b[39m\n",
      "\u001b[32m\u001b[1m  Updating\u001b[22m\u001b[39m `~/.julia/environments/v1.2/Manifest.toml`\n",
      "\u001b[90m [no changes]\u001b[39m\n"
     ]
    }
   ],
   "source": [
    "using Pkg\n",
    "Pkg.add(\"Optim\")"
   ]
  },
  {
   "cell_type": "markdown",
   "metadata": {},
   "source": [
    "Next I tell Julia to use Optim and define the function that I want to maximize."
   ]
  },
  {
   "cell_type": "code",
   "execution_count": 3,
   "metadata": {},
   "outputs": [
    {
     "data": {
      "text/plain": [
       "f (generic function with 1 method)"
      ]
     },
     "execution_count": 3,
     "metadata": {},
     "output_type": "execute_result"
    }
   ],
   "source": [
    "using Optim\n",
    "\n",
    "f(x)=(x-1)^2"
   ]
  },
  {
   "cell_type": "markdown",
   "metadata": {},
   "source": [
    "and now we are ready for optimizing it: The command is \"optimize\" and its first argument is the function that you want  to optimize. Then you tell Optim a lower and an upper bound, i.e. you tell it an interval in which it whould look for the lowest function value. I choose -5 and 5 as boundaries which means that Optim will search for the x in the interval $[-5,5]$ that minimizes $f$. A you can see, Optim finds the minimizer 1 and the minimum 0."
   ]
  },
  {
   "cell_type": "code",
   "execution_count": 4,
   "metadata": {},
   "outputs": [
    {
     "data": {
      "text/plain": [
       "Results of Optimization Algorithm\n",
       " * Algorithm: Brent's Method\n",
       " * Search Interval: [-5.000000, 5.000000]\n",
       " * Minimizer: 1.000000e+00\n",
       " * Minimum: 0.000000e+00\n",
       " * Iterations: 5\n",
       " * Convergence: max(|x - x_upper|, |x - x_lower|) <= 2*(1.5e-08*|x|+2.2e-16): true\n",
       " * Objective Function Calls: 6"
      ]
     },
     "execution_count": 4,
     "metadata": {},
     "output_type": "execute_result"
    }
   ],
   "source": [
    "optimize(f,-5,5)"
   ]
  },
  {
   "cell_type": "markdown",
   "metadata": {},
   "source": [
    "## ...but I want to maximize"
   ]
  },
  {
   "cell_type": "markdown",
   "metadata": {},
   "source": [
    "If you want to maximize a function, say $g(x)=-(x-1)^2$, then you can just as well minimize the negative of the function; i.e. to solve $\\max_x\\, g(x)$ you can solve $\\min_x\\, -g(x)$. The minimizer is the maximizer in the original problem and the minimum is the negative of the maximum of the original problem. "
   ]
  },
  {
   "cell_type": "markdown",
   "metadata": {},
   "source": [
    "# Multivariate functions"
   ]
  },
  {
   "cell_type": "markdown",
   "metadata": {},
   "source": [
    "First I have to tell you how to input multivariate functions into julia. I give several ways that all create the function \n",
    "$$g(z,y)=(1 - z)^2 + 100 * (y - z^2)^2$$"
   ]
  },
  {
   "cell_type": "code",
   "execution_count": 5,
   "metadata": {},
   "outputs": [
    {
     "data": {
      "text/plain": [
       "g (generic function with 1 method)"
      ]
     },
     "execution_count": 5,
     "metadata": {},
     "output_type": "execute_result"
    }
   ],
   "source": [
    "#option 1: math way\n",
    "g(z,y)=(1 - z)^2 + 100 * (y - z^2)^2\n",
    "\n",
    "#option 2: computer science way\n",
    "function g(z,y)\n",
    "    return (1 - z)^2 + 100 * (y - z^2)^2\n",
    "end"
   ]
  },
  {
   "cell_type": "markdown",
   "metadata": {},
   "source": [
    "There are further options: Instead of representing $g$ as a function of 2 variables $z$ and $y$ I could represent it as a function of one variable $x$ where this variable $x$ is a vector with two elements x[1] and x[2]. This is what I do next.\n",
    "\n",
    "(Strangely enough this is the representation that we will need for the minimization problem below.)"
   ]
  },
  {
   "cell_type": "code",
   "execution_count": 6,
   "metadata": {},
   "outputs": [
    {
     "data": {
      "text/plain": [
       "h (generic function with 1 method)"
      ]
     },
     "execution_count": 6,
     "metadata": {},
     "output_type": "execute_result"
    }
   ],
   "source": [
    "h(x)=(1 - x[1])^2 + 100 * (x[2] - x[1]^2)^2\n",
    "\n",
    "function h(x)\n",
    "    return (1 - x[1])^2 + 100 * (x[2] - x[1]^2)^2\n",
    "end"
   ]
  },
  {
   "cell_type": "markdown",
   "metadata": {},
   "source": [
    "Now we can minimize this multivariate function, i.e. solve\n",
    "$$\\min_{y,z} (1 - z)^2 + 100 * (y - z^2)^2.$$\n",
    "In Optim we represent this problem, however, as minimization over one variable $x$ which is a vector with two elements (what used to be z and y above) which we denote by x[1], the first element of the vector, and x[2], the second element of the vector. The minimization problem looks then like\n",
    "$$\\min_x  (1 - x[1])^2 + 100 * (x[2] - x[1]^2)^2.$$\n",
    "Let's ask Optim to solve for the minimum. \n",
    "\n",
    "Unfortunately, some things change a bit compared to the univariate case above. Instead of telling optim an interval in which it should search, I am giving it a starting point for its algorithm, here [0.0,0.0]. A starting point is an approximate guess of the solution (the algorithm has an easier job if the starting value you give it is closer to the actual solution but for well behaved problems like minimizing a convex function the starting point does not matter too much). Note that you should write [0.0, 0.0] and not [0,0]. If you do the latter, Julia is not sure whether you want to consider integers, i.e. natural numbers, only (I think so at least...anyway: you get an error if you try [0,0])."
   ]
  },
  {
   "cell_type": "code",
   "execution_count": 7,
   "metadata": {},
   "outputs": [
    {
     "data": {
      "text/plain": [
       " * Status: success\n",
       "\n",
       " * Candidate solution\n",
       "    Minimizer: [1.00e+00, 1.00e+00]\n",
       "    Minimum:   3.525527e-09\n",
       "\n",
       " * Found with\n",
       "    Algorithm:     Nelder-Mead\n",
       "    Initial Point: [0.00e+00, 0.00e+00]\n",
       "\n",
       " * Convergence measures\n",
       "    √(Σ(yᵢ-ȳ)²)/n ≤ 1.0e-08\n",
       "\n",
       " * Work counters\n",
       "    Seconds run:   0  (vs limit Inf)\n",
       "    Iterations:    60\n",
       "    f(x) calls:    118\n"
      ]
     },
     "execution_count": 7,
     "metadata": {},
     "output_type": "execute_result"
    }
   ],
   "source": [
    "optimize(h,[0.0,0.0])"
   ]
  },
  {
   "cell_type": "markdown",
   "metadata": {},
   "source": [
    "## ...but I have domain restrictions"
   ]
  },
  {
   "cell_type": "markdown",
   "metadata": {},
   "source": [
    "You might have a problem where variables are constraint, e.g. your variable represents a probability which can only be between 0 and 1. You can give these so called box-constraints to Optim also in the multivariate case. Say we need in the optimization problem above x[1] to be between 0 and 0.5 and x[2] between -2 and 1. We write this in the following way: After the lower bounds [-0.0,-2.0], we give the upper bounds [0.5,1.0] and then a starting value [0.2,0.0] and finally we tell Optim that we want to use a method that can handle box contraints. This method is called Fminbox and because FminBox is itself a function we have to write it as \"Fminbox()\"."
   ]
  },
  {
   "cell_type": "code",
   "execution_count": 14,
   "metadata": {},
   "outputs": [
    {
     "data": {
      "text/plain": [
       " * Status: success\n",
       "\n",
       " * Candidate solution\n",
       "    Minimizer: [5.00e-01, 2.50e-01]\n",
       "    Minimum:   2.500000e-01\n",
       "\n",
       " * Found with\n",
       "    Algorithm:     Fminbox with L-BFGS\n",
       "    Initial Point: [2.00e-01, 0.00e+00]\n",
       "\n",
       " * Convergence measures\n",
       "    |x - x'|               = 2.78e-17 ≰ 0.0e+00\n",
       "    |x - x'|/|x'|          = 4.97e-17 ≰ 0.0e+00\n",
       "    |f(x) - f(x')|         = 0.00e+00 ≤ 0.0e+00\n",
       "    |f(x) - f(x')|/|f(x')| = 0.00e+00 ≤ 0.0e+00\n",
       "    |g(x)|                 = 1.00e+00 ≰ 1.0e-08\n",
       "\n",
       " * Work counters\n",
       "    Seconds run:   0  (vs limit Inf)\n",
       "    Iterations:    7\n",
       "    f(x) calls:    1241\n",
       "    ∇f(x) calls:   1241\n"
      ]
     },
     "execution_count": 14,
     "metadata": {},
     "output_type": "execute_result"
    }
   ],
   "source": [
    "optimize(h,[0.0,-2.0],[0.5,1.0],[0.2,0.0],Fminbox())"
   ]
  },
  {
   "cell_type": "code",
   "execution_count": null,
   "metadata": {},
   "outputs": [],
   "source": []
  }
 ],
 "metadata": {
  "kernelspec": {
   "display_name": "Julia 1.2.0",
   "language": "julia",
   "name": "julia-1.2"
  },
  "language_info": {
   "file_extension": ".jl",
   "mimetype": "application/julia",
   "name": "julia",
   "version": "1.2.0"
  }
 },
 "nbformat": 4,
 "nbformat_minor": 2
}
