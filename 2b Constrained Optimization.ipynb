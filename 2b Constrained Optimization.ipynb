{
 "cells": [
  {
   "cell_type": "markdown",
   "id": "e66a16ac",
   "metadata": {},
   "source": [
    "## Constrained Optimization\n",
    "\n",
    "Suppose you want to maximize utility\n",
    "\n",
    "$$u(x_1,x_2)=x_1*x_2$$\n",
    "\n",
    "subject to a budget constraint\n",
    "\n",
    "$$p_1*x_1+p_2*x_2\\leq m$$\n",
    "\n",
    "as well as the non-negativity constraints\n",
    "\n",
    "$$x_1,x_2\\geq 0.$$\n",
    "\n",
    "There are several ways of doing so and neither looks very beginner friendly but as this is a common poblem in economics, I want to show you nevertheless how it can be done.\n",
    "\n",
    "The first step is to rewrite the problem in a the computer science notation\n",
    "\n",
    "$$u(x,p)=x[1]*x[2]$$\n",
    "\n",
    "and writing the constraints as double inequalities solved for zero\n",
    "\n",
    "$$-\\infty\\leq p[1]*x[1]+p[2]*x[2]-p[3]\\leq 0$$\n",
    "\n",
    "where $p$ is now a vector containing the parameters of the problem which are here the two prices and the budget, i.e. $p[1]$ is the price of good 1, $p[2]$ the price of good 2 and $p[3]$ is the budget. For the code below it is important to write everything as double inequalities and where we have no lower/upper restriction we do this by stating that a term has to be larger/less than (-)infinity. \n",
    "\n",
    "Note that the utility function does not depend on any of these parameters here (although it could in principle) but nevertheless the parameters have to be an argument in the $u$ function if you want your code to run without error. \n",
    "\n",
    "As our optimization routine does minimization instead of maximization, we define the negative of the utility function as our objective:\n",
    "\n",
    "$$f(x,p)=-x[1]*x[2]$$\n",
    "\n",
    "Finally, we need to add the non-negativity constraints:\n",
    "$$0\\leq x[1] \\leq \\infty$$\n",
    "$$0\\leq x[2] \\leq \\infty$$\n",
    "\n",
    "If we wrote our constraints in vector notation it would look like this:\n",
    "\n",
    "$$ \\begin{bmatrix}\n",
    "           -\\infty\\\\\n",
    "           0\\\\\n",
    "           0\n",
    "         \\end{bmatrix}\\leq  \\begin{bmatrix}\n",
    "           p[1]*x[1]+p[2]*x[2]-p[3]\\\\\n",
    "           x[1]\\\\\n",
    "           x[2]\n",
    "         \\end{bmatrix}\\leq \\begin{bmatrix}\n",
    "           0\\\\\n",
    "           \\infty\\\\\n",
    "           \\infty\n",
    "         \\end{bmatrix}$$\n",
    "\n",
    "We are almost there. However, the packages we are going to use want us to write all the constraints into one function and do this in a slightly odd format: We define a function $cons!(res,x,p)$ which has as a first argument (\"res\")  a vector that will be set inside the function to the value of the three constraints. That is,"
   ]
  },
  {
   "cell_type": "code",
   "execution_count": 1,
   "id": "c1308895",
   "metadata": {},
   "outputs": [
    {
     "data": {
      "text/plain": [
       "3-element Vector{Float64}:\n",
       "  0.0\n",
       " Inf\n",
       " Inf"
      ]
     },
     "execution_count": 1,
     "metadata": {},
     "output_type": "execute_result"
    }
   ],
   "source": [
    "function cons!(res,x,p)\n",
    "    res[1]=p[1]*x[1]+p[2]*x[2]-p[3] #budget constraints\n",
    "    res[2]=x[1] #non-negativity constraint for good 1\n",
    "    res[3]=x[2] #non-negativity constraint for good 2\n",
    "end\n",
    "\n",
    "#lower bounds for the constraints\n",
    "lcons = [-Inf,0.0,0.0]\n",
    "\n",
    "#upper bounds for the constraints\n",
    "ucons = [0.0,Inf,Inf]"
   ]
  },
  {
   "cell_type": "code",
   "execution_count": 2,
   "id": "fd7f8eac",
   "metadata": {},
   "outputs": [
    {
     "data": {
      "text/plain": [
       "retcode: Success\n",
       "u: 2-element Vector{Float64}:\n",
       " 3.333333333333333\n",
       " 2.0000000000000004"
      ]
     },
     "execution_count": 2,
     "metadata": {},
     "output_type": "execute_result"
    }
   ],
   "source": [
    "#loading several optimization packages\n",
    "using Optimization, OptimizationMOI, OptimizationOptimJL, Ipopt\n",
    "using ForwardDiff, ModelingToolkit\n",
    "\n",
    "#defining the objective\n",
    "f(x,p)=-x[1]*x[2]\n",
    "\n",
    "#set starting value for x\n",
    "start = [1.0,1.0]\n",
    "\n",
    "#set parameter values, here: p1=3, p2=5, m=20\n",
    "parameters = [3.0,5.0,20.0]\n",
    "\n",
    "#defining the optimization problem\n",
    "optprob = OptimizationFunction(f,Optimization.AutoForwardDiff(),cons=cons!)\n",
    "\n",
    "#defining the problem with concrete starting value parameters and bounds for the constraints\n",
    "prob = OptimizationProblem(optprob,start,parameters,lcons=lcons,ucons=ucons)\n",
    "\n",
    "# solve the problem using the algorithm IPNewton\n",
    "sol = solve(prob,IPNewton())"
   ]
  },
  {
   "cell_type": "markdown",
   "id": "cc02e4f6",
   "metadata": {},
   "source": [
    "\"retcode: Success\" tells us that the optimization algorithm has successfully converged, i.e. it found a minimum. The Vector that is then returned is the minimizer."
   ]
  },
  {
   "cell_type": "markdown",
   "id": "b9b6c7da",
   "metadata": {},
   "source": [
    "### Equality constraints\n",
    "\n",
    "Above we had a problem with inequality constraints but it is easy to adapt it to using equality constraints. Suppose you wanted to solve the same problem as above but you wanted to use the budget constraint as an equality, i.e. \n",
    "$$p_1 x_1+p_2 x_2=m.$$\n",
    "The trick is that you can write an equation as two inequalities. In our case, the equation above is equivalent to \n",
    "$$0\\leq p_1 x_1+p_2 x_2-m\\leq 0.$$\n",
    "And in this form we can use feed the equation as tow inequalities into julia. That is, the only difference to the code above is that we would now use:"
   ]
  },
  {
   "cell_type": "code",
   "execution_count": null,
   "id": "652b0529",
   "metadata": {},
   "outputs": [],
   "source": [
    "#lower bounds for the constraints\n",
    "lcons = [0.0,0.0,0.0]  #instead of lcons = [-Inf,0.0,0.0]\n",
    "\n",
    "#upper bounds for the constraints\n",
    "ucons = [0.0,Inf,Inf]"
   ]
  },
  {
   "cell_type": "markdown",
   "id": "1831653e",
   "metadata": {},
   "source": [
    "You may find it strange to provide an equality constraint as two inequalities but note that this gives us a lot of flexibility. In particular, we can provide a mix of equality and inequality constraint to Julia as we just did where the non-negativity constraints are inequality constraints while the budget constraint was an equality constraint."
   ]
  },
  {
   "cell_type": "code",
   "execution_count": null,
   "id": "9c37291b",
   "metadata": {},
   "outputs": [],
   "source": []
  }
 ],
 "metadata": {
  "kernelspec": {
   "display_name": "Julia 1.9.2",
   "language": "julia",
   "name": "julia-1.9"
  },
  "language_info": {
   "file_extension": ".jl",
   "mimetype": "application/julia",
   "name": "julia",
   "version": "1.9.2"
  }
 },
 "nbformat": 4,
 "nbformat_minor": 5
}
