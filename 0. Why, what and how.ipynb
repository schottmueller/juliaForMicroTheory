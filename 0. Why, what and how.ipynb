{
 "cells": [
  {
   "cell_type": "markdown",
   "metadata": {},
   "source": [
    "# What are these notebooks for?"
   ]
  },
  {
   "cell_type": "markdown",
   "metadata": {},
   "source": [
    "These notebooks should teach economics students to use software to do simple numerical tasks that often come up when writing a seminar paper or a thesis. In particular, plotting functions and creating print quality plots/graphics, solving equations and equations systems (e.g. to solve for an equilibrium) as well as maximization problems. I propose to use th programming language julia as a tool but these notebooks do not require prior knowledge of julia or any other programming language. \n",
    "\n",
    "The idea is that you can simply substitute the functions that I use in my examples with the ones that are relevant to your problem, execute the code and get the result/graphic that you need. There are two caveats:\n",
    "- Everything is about numerical analysis. That is, the code will not give you a formula, say, an equilibrium as a general function of the parameters but it will give you the equilibrium if you choose some specific parameter values. Hence, it is much more suitable to find/solve examples (or counterexamples) than for a general solution to a problem. However, these numerical examples can be very enlightening. For example, they can tell you what (not) to look for. You can also get a rough feeling for how the solution, e.g. the equilibrium, changes if parameter values change.\n",
    "- These notebooks are not meant to teach you programming in general or julia more specifically. I encourage you to learn it in addition when you have time but you might want to check other places on the web for this purpose. In particular, I will not talk about type inference and the type system, writing fast code, multiple dispatch and I will even skip many  standard features of programming languages like, for example, dictionaries. The approach here is to use julia as something like a graphical calculator which harvests of course only a tiny amount of julia's power."
   ]
  },
  {
   "cell_type": "markdown",
   "metadata": {},
   "source": [
    "# Do I have to install something?"
   ]
  },
  {
   "cell_type": "markdown",
   "metadata": {},
   "source": [
    "You can install julia locally on your machine but you do not have to and it is easier for the beginning if you do not install anything and work through juliabox instead which I describe below. The disadvantage is that you need an internet connection to work on juliabox (as basically all your commands are executed in the cloud).\n",
    "\n",
    "If you really want to install julia locally and work on oyur own machine, I refer you to the installation instructions here: https://lectures.quantecon.org/jl/getting_started.html \n",
    "QuantEcon.org also has a nice introduction to julia and a host of examples of how to use julia in macroeconomics.\n",
    "\n",
    "To use julia simply in your browser you can use https://next.juliabox.com/\n",
    "You need either a github or a google account to sign in there. After signing in, you will see an explorer like screen. \n",
    "\n",
    "*EDIT: Note that juliabox is allegedly shutting down its free plan soon. In this case, I recommend a local installation.*"
   ]
  },
  {
   "cell_type": "markdown",
   "metadata": {},
   "source": [
    "<img src=\"jB1.png\">"
   ]
  },
  {
   "cell_type": "markdown",
   "metadata": {},
   "source": [
    "On picture above I clicked on \"New\" and as you can see you can start a new Jupyter Julia notebook. Juliabox suggests several versions. Normally it is best to take the highest version number. After creating a new notebook you can, for example, copy paste the code from my notebooks into yours (whatever bit you need). \n",
    "\n",
    "An alternative is to download all my notebooks as a zip file via https://github.com/schottmueller/juliaForMicroTheory/archive/master.zip and save them on your hard disc. You can then use the \"Upload\" button next to the \"New\" button in juliabox to upload all the notebooks to your instance of juliabox. You can then click on the notebook and edit it as you like. I will go this route and upload one notebook to my juliabox. After uploading my juliabox will look like this:"
   ]
  },
  {
   "cell_type": "markdown",
   "metadata": {},
   "source": [
    "<img src=\"jB2.png\">"
   ]
  },
  {
   "cell_type": "markdown",
   "metadata": {},
   "source": [
    "Now I can click on the notebook that I uploaded and it will load in a new tab which looks like this:"
   ]
  },
  {
   "cell_type": "markdown",
   "metadata": {},
   "source": [
    "<img src=\"jB3.png\">"
   ]
  },
  {
   "cell_type": "markdown",
   "metadata": {},
   "source": [
    "As you see, the notebook contains text cells and code cells. To run the code in a code cell you hav eto click into the cell and press Shift+Enter, i.e. hold the Shift key and then hit the Enter key while keeping Shift pressed. The cell will evaluate and the result of the last line of code in the cell will be displayed below the cell. \n",
    "\n",
    "For instance, I executed the cells in the notebook you see above. The first code cell (where it says \"In[2]\") defines the function $f(x)=x^2$. After defining this julia gives us the output \"f (generic function with 1 method)\" which basically confirms that we defined a function.\n",
    "\n",
    "To show another example I include below a code cell where I ask julia to calculate 1+1 and you see that I got the answer 2:"
   ]
  },
  {
   "cell_type": "code",
   "execution_count": 1,
   "metadata": {},
   "outputs": [
    {
     "data": {
      "text/plain": [
       "2"
      ]
     },
     "execution_count": 1,
     "metadata": {},
     "output_type": "execute_result"
    }
   ],
   "source": [
    "1+1"
   ]
  },
  {
   "cell_type": "markdown",
   "metadata": {},
   "source": [
    "Note that you can save notebooks to your juliabox (see the file menu) and you can change the name of a file by clicking on the name displayed in the upper right corner.\n",
    "\n",
    "When you are done, you should close the notebook by clicking on the \"File\" menu and then on \"Close and Halt\"."
   ]
  },
  {
   "cell_type": "markdown",
   "metadata": {},
   "source": [
    "# Do I need to go through the notebooks one by one?"
   ]
  },
  {
   "cell_type": "markdown",
   "metadata": {},
   "source": [
    "For the first 4 notebooks this is very much advised. (Unless, of course, the thing you want to do is already done in say the first notebook, then oyu have to go no further.) The reason is that we will install packages along the way and I will also assume that, for example, in notebook 3 you already know the stuff from notebooks 1 and 2. By the way, when we install packages in juliabox, these packages are installed on your juliabox in the cloud and not on your own machine. They remain there. So when you login the next time you do not have to install them again.\n",
    "\n",
    "However, you can skip the \"advanced\" parts. For example, in notebook 1 I tell towards the end a lot of details how you can make nice plots. This is more of a reference than a prerequisite for anything that follows."
   ]
  },
  {
   "cell_type": "markdown",
   "metadata": {
    "collapsed": true
   },
   "source": [
    "# Where can I learn more about Julia and where can I get help?"
   ]
  },
  {
   "cell_type": "markdown",
   "metadata": {},
   "source": [
    "An impressive intorduction to Julia targeted at macroeconomists is https://lectures.quantecon.org/jl/. The julia website is https://julialang.org. If you have questions about a specific command, the first go to is the julia help which access by typing a question mark and the command you want to know more about into a code cell. As an example, I do so for the max command:"
   ]
  },
  {
   "cell_type": "code",
   "execution_count": 1,
   "metadata": {},
   "outputs": [
    {
     "name": "stdout",
     "output_type": "stream",
     "text": [
      "search: \u001b[1mm\u001b[22m\u001b[1ma\u001b[22m\u001b[1mx\u001b[22m \u001b[1mm\u001b[22m\u001b[1ma\u001b[22m\u001b[1mx\u001b[22mabs \u001b[1mm\u001b[22m\u001b[1ma\u001b[22m\u001b[1mx\u001b[22mimum \u001b[1mm\u001b[22m\u001b[1ma\u001b[22m\u001b[1mx\u001b[22mimum! \u001b[1mm\u001b[22m\u001b[1ma\u001b[22m\u001b[1mx\u001b[22mintfloat ind\u001b[1mm\u001b[22m\u001b[1ma\u001b[22m\u001b[1mx\u001b[22m eig\u001b[1mm\u001b[22m\u001b[1ma\u001b[22m\u001b[1mx\u001b[22m type\u001b[1mm\u001b[22m\u001b[1ma\u001b[22m\u001b[1mx\u001b[22m real\u001b[1mm\u001b[22m\u001b[1ma\u001b[22m\u001b[1mx\u001b[22m\n",
      "\n"
     ]
    },
    {
     "data": {
      "text/markdown": [
       "```\n",
       "max(x, y, ...)\n",
       "```\n",
       "\n",
       "Return the maximum of the arguments. See also the [`maximum`](@ref) function to take the maximum element from a collection.\n",
       "\n",
       "```jldoctest\n",
       "julia> max(2, 5, 1)\n",
       "5\n",
       "```\n"
      ],
      "text/plain": [
       "```\n",
       "max(x, y, ...)\n",
       "```\n",
       "\n",
       "Return the maximum of the arguments. See also the [`maximum`](@ref) function to take the maximum element from a collection.\n",
       "\n",
       "```jldoctest\n",
       "julia> max(2, 5, 1)\n",
       "5\n",
       "```\n"
      ]
     },
     "execution_count": 1,
     "metadata": {},
     "output_type": "execute_result"
    }
   ],
   "source": [
    "?max"
   ]
  },
  {
   "cell_type": "markdown",
   "metadata": {},
   "source": [
    "The second way to get help is to use the internet search engine of your choice and search the web. Chances are someone asked the question in a forum before you. If this does not help you can got https://stackoverflow.com and ask your question there. If you tag your question with the tag julia-lang, you will usually get a quick answer, see https://stackoverflow.com/questions/tagged/julia-lang for the last few questions using this tag."
   ]
  },
  {
   "cell_type": "markdown",
   "metadata": {},
   "source": [
    "We will use a couple of packages and the github pages of these packages have links to their respective documentation. I list the packages and their github pages for reference:\n",
    "- Plots https://github.com/JuliaPlots/Plots.jl\n",
    "- Optim https://github.com/JuliaNLSolvers/Optim.jl\n",
    "- Roots https://github.com/JuliaMath/Roots.jl\n",
    "- NLsolve https://github.com/JuliaNLSolvers/NLsolve.jl\n",
    "- LaTeXStrings https://github.com/stevengj/LaTeXStrings.jl\n",
    "\n",
    "Other useful packages that you might want to explore at some point later:\n",
    "- JuMP https://github.com/JuliaOpt/JuMP.jl (for advanced optimization)"
   ]
  }
 ],
 "metadata": {
  "kernelspec": {
   "display_name": "Julia 1.2.0",
   "language": "julia",
   "name": "julia-1.2"
  },
  "language_info": {
   "file_extension": ".jl",
   "mimetype": "application/julia",
   "name": "julia",
   "version": "1.2.0"
  }
 },
 "nbformat": 4,
 "nbformat_minor": 2
}
