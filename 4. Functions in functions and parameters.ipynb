{
 "cells": [
  {
   "cell_type": "markdown",
   "metadata": {},
   "source": [
    "In this notebook I tell you \n",
    "- a bit more on how you can use functions\n",
    "- some ways to handle parameters."
   ]
  },
  {
   "cell_type": "markdown",
   "metadata": {},
   "source": [
    "# Functions within function definitions"
   ]
  },
  {
   "cell_type": "markdown",
   "metadata": {},
   "source": [
    "Let's say we want to define the profit function of a monopolistic firm. This would be price times quantity minus costs:\n",
    "$$\\pi = p*q-c(q)$$\n",
    "Now costs are a function of quantity and in fact the quantity the monopolist can sell is itself a function of the price he charges. So monopoly profits should actually be written as a function of the price\n",
    "$$\\pi(p)=p*q(p)-c(q(p)).$$\n",
    "That is, we define one function (the profit) using other functions. The good news is: julia has no problem with that! \n",
    "\n",
    "As an example,  let me use linear demand where demand is zero for prices above $1$, and $1-p$ for prices between $0$ and $1$. As cost function, I use quadratic costs, i.e. $c(q)=q^2$."
   ]
  },
  {
   "cell_type": "code",
   "execution_count": 1,
   "metadata": {},
   "outputs": [
    {
     "data": {
      "text/plain": [
       "pi (generic function with 1 method)"
      ]
     },
     "execution_count": 1,
     "metadata": {},
     "output_type": "execute_result"
    }
   ],
   "source": [
    "#cost function\n",
    "c(q)=q^2\n",
    "\n",
    "#demand function\n",
    "function q(p)\n",
    "    if p>1\n",
    "        return 0.0\n",
    "    elseif 0<=p<=1\n",
    "        return 1-p\n",
    "    else #this is the case p<0 which makes admittedly not much sense\n",
    "        return 1.0\n",
    "    end\n",
    "end\n",
    "\n",
    "#profit function\n",
    "pi(p)=p*q(p)-c(q(p))"
   ]
  },
  {
   "cell_type": "markdown",
   "metadata": {},
   "source": [
    "We can now evaluate profits for different prices. For example, we can ask julia what the profit at price $p=0.6$ is.\n",
    "\n",
    "(To check: demanded quantity will then be $1-0.6=0.4$ and costs will $0.4^2=0.16$. So profits should be $0.6*0.4-0.16=0.08$.)"
   ]
  },
  {
   "cell_type": "code",
   "execution_count": 2,
   "metadata": {},
   "outputs": [
    {
     "data": {
      "text/plain": [
       "0.07999999999999996"
      ]
     },
     "execution_count": 2,
     "metadata": {},
     "output_type": "execute_result"
    }
   ],
   "source": [
    "pi(0.6)"
   ]
  },
  {
   "cell_type": "markdown",
   "metadata": {},
   "source": [
    "The pi function is -- to julia -- really just an ordinary function and you can do with it all the usual things, e.g. plotting it or maximizing it."
   ]
  },
  {
   "cell_type": "markdown",
   "metadata": {},
   "source": [
    "# Parameters"
   ]
  },
  {
   "cell_type": "markdown",
   "metadata": {},
   "source": [
    "We often have parameters in economic models. For example, costs could be $\\alpha q^2$ where $q$ is the quantity and $\\alpha>0$ is just some parameter. As we are evaluating everything numerically, we have to assign some number to this parameter. We could decide that for this example the parameter $\\alpha$ is 1 and the we would end up with the cost function c(q)$ I used above.\n",
    "\n",
    "Often it is however interesting to check what happens if we change a parameter (e.g. how will the profit maximizing price change if $\\alpha$ and therefore marginal costs decrease). For these kind of comparative statics questions, it is useful to have alpha as a parameter in our code that we can change and see how the results change. There are two ways to do that that I want to describe. The first creates a variable and you can change this variable if you like. The second way uses the parameter as another argument in the function of interest, e.g. the cost function."
   ]
  },
  {
   "cell_type": "markdown",
   "metadata": {},
   "source": [
    "## Parameters as variables"
   ]
  },
  {
   "cell_type": "markdown",
   "metadata": {},
   "source": [
    "Here we create a variable called alpha and assign it the value 0.5. This simply means that in the following code julia will insert 0.5 whenever we write alpha. We can then define the cost function using this alpha and in this case the cost will be $0.5*q^2$. We can evaluate this cost function, for example $c(2)=2$. \n",
    "\n",
    "If we want to test a different parameter value, we can simply change the first line where we define alpha, for example to alpha=2.0, and re-evaluate the code. We will then get $c(2)=8$. "
   ]
  },
  {
   "cell_type": "code",
   "execution_count": 3,
   "metadata": {},
   "outputs": [
    {
     "data": {
      "text/plain": [
       "2.0"
      ]
     },
     "execution_count": 3,
     "metadata": {},
     "output_type": "execute_result"
    }
   ],
   "source": [
    "alpha = 0.5\n",
    "c(q) = alpha*q^2\n",
    "c(2)"
   ]
  },
  {
   "cell_type": "code",
   "execution_count": 4,
   "metadata": {},
   "outputs": [
    {
     "data": {
      "text/plain": [
       "8.0"
      ]
     },
     "execution_count": 4,
     "metadata": {},
     "output_type": "execute_result"
    }
   ],
   "source": [
    "alpha = 2.0\n",
    "c(2)"
   ]
  },
  {
   "cell_type": "markdown",
   "metadata": {},
   "source": [
    "## Parameters as additional function arguments"
   ]
  },
  {
   "cell_type": "markdown",
   "metadata": {},
   "source": [
    "Alternatively, we could also think of the cost functions as being a function not only of quantity $q$ but also of the parameter $\\alpha$. That is $c(q,\\alpha)=\\alpha*q^2$. \n",
    "\n",
    "This is, of course, possible in julia. We only have to be a bit careful when we want to evaluate this function. This function is a function of two arguments and we cannot call it with, for example, c(2) because julia will not know what alpha value it should use to calculate costs. Instead we have to call the function with, for example, c(2,0.5) which will give us the cost of producing two units when $\\alpha$ is 0.5. (By the way: Always make sure that you use the right order of arguments! I define the function below such that q is the first and alpha the second argument.)\n",
    "\n",
    "I define this function below and call it \"cNew\" (just not to overwrite the c function that I defined above)."
   ]
  },
  {
   "cell_type": "code",
   "execution_count": 5,
   "metadata": {},
   "outputs": [
    {
     "data": {
      "text/plain": [
       "2.0"
      ]
     },
     "execution_count": 5,
     "metadata": {},
     "output_type": "execute_result"
    }
   ],
   "source": [
    "cNew(q,alpha) = alpha*q^2\n",
    "cNew(2,0.5)"
   ]
  },
  {
   "cell_type": "markdown",
   "metadata": {},
   "source": [
    "#### one little hiccup with parameters as function arguments and how to solve it"
   ]
  },
  {
   "cell_type": "markdown",
   "metadata": {},
   "source": [
    "If you want to plot the cNew function, you might get into a bit of trouble. You might want to plot it as a function of $q$ for some given parameter value, say $\\alpha=0.5$. You might try this in the following way, however,..."
   ]
  },
  {
   "cell_type": "code",
   "execution_count": 6,
   "metadata": {},
   "outputs": [
    {
     "ename": "MethodError",
     "evalue": "MethodError: no method matching ^(::typeof(q), ::Int64)\nClosest candidates are:\n  ^(!Matched::Float16, ::Integer) at math.jl:796\n  ^(!Matched::Missing, ::Integer) at missing.jl:130\n  ^(!Matched::Missing, ::Number) at missing.jl:94\n  ...",
     "output_type": "error",
     "traceback": [
      "MethodError: no method matching ^(::typeof(q), ::Int64)\nClosest candidates are:\n  ^(!Matched::Float16, ::Integer) at math.jl:796\n  ^(!Matched::Missing, ::Integer) at missing.jl:130\n  ^(!Matched::Missing, ::Number) at missing.jl:94\n  ...",
      "",
      "Stacktrace:",
      " [1] macro expansion at ./none:0 [inlined]",
      " [2] literal_pow at ./none:0 [inlined]",
      " [3] cNew(::Function, ::Float64) at ./In[5]:1",
      " [4] top-level scope at In[6]:2"
     ]
    }
   ],
   "source": [
    "using Plots\n",
    "plot(cNew(q,0.5),0.0,1.0)"
   ]
  },
  {
   "cell_type": "markdown",
   "metadata": {},
   "source": [
    "that is a bad idea because Plots expects to get a function name as the first argument and you gave it c(q,0.5) which is not a function name but a function evaluation (and as Plots does not know what q is, it is not even a proper function evaluation).\n",
    "\n",
    "What you have to do is to create a so called anonymous function:"
   ]
  },
  {
   "cell_type": "code",
   "execution_count": 7,
   "metadata": {},
   "outputs": [
    {
     "data": {
      "image/svg+xml": [
       "<?xml version=\"1.0\" encoding=\"utf-8\"?>\n",
       "<svg xmlns=\"http://www.w3.org/2000/svg\" xmlns:xlink=\"http://www.w3.org/1999/xlink\" width=\"600\" height=\"400\" viewBox=\"0 0 2400 1600\">\n",
       "<defs>\n",
       "  <clipPath id=\"clip0800\">\n",
       "    <rect x=\"0\" y=\"0\" width=\"2400\" height=\"1600\"/>\n",
       "  </clipPath>\n",
       "</defs>\n",
       "<polygon clip-path=\"url(#clip0800)\" points=\"\n",
       "0,1600 2400,1600 2400,0 0,0 \n",
       "  \" fill=\"#ffffff\" fill-rule=\"evenodd\" fill-opacity=\"1\"/>\n",
       "<defs>\n",
       "  <clipPath id=\"clip0801\">\n",
       "    <rect x=\"480\" y=\"0\" width=\"1681\" height=\"1600\"/>\n",
       "  </clipPath>\n",
       "</defs>\n",
       "<polygon clip-path=\"url(#clip0800)\" points=\"\n",
       "153.898,1487.47 2352.76,1487.47 2352.76,47.2441 153.898,47.2441 \n",
       "  \" fill=\"#ffffff\" fill-rule=\"evenodd\" fill-opacity=\"1\"/>\n",
       "<defs>\n",
       "  <clipPath id=\"clip0802\">\n",
       "    <rect x=\"153\" y=\"47\" width=\"2200\" height=\"1441\"/>\n",
       "  </clipPath>\n",
       "</defs>\n",
       "<polyline clip-path=\"url(#clip0802)\" style=\"stroke:#000000; stroke-width:2; stroke-opacity:0.1; fill:none\" points=\"\n",
       "  216.13,1487.47 216.13,47.2441 \n",
       "  \"/>\n",
       "<polyline clip-path=\"url(#clip0802)\" style=\"stroke:#000000; stroke-width:2; stroke-opacity:0.1; fill:none\" points=\"\n",
       "  734.728,1487.47 734.728,47.2441 \n",
       "  \"/>\n",
       "<polyline clip-path=\"url(#clip0802)\" style=\"stroke:#000000; stroke-width:2; stroke-opacity:0.1; fill:none\" points=\"\n",
       "  1253.33,1487.47 1253.33,47.2441 \n",
       "  \"/>\n",
       "<polyline clip-path=\"url(#clip0802)\" style=\"stroke:#000000; stroke-width:2; stroke-opacity:0.1; fill:none\" points=\"\n",
       "  1771.93,1487.47 1771.93,47.2441 \n",
       "  \"/>\n",
       "<polyline clip-path=\"url(#clip0802)\" style=\"stroke:#000000; stroke-width:2; stroke-opacity:0.1; fill:none\" points=\"\n",
       "  2290.52,1487.47 2290.52,47.2441 \n",
       "  \"/>\n",
       "<polyline clip-path=\"url(#clip0802)\" style=\"stroke:#000000; stroke-width:2; stroke-opacity:0.1; fill:none\" points=\"\n",
       "  153.898,1446.71 2352.76,1446.71 \n",
       "  \"/>\n",
       "<polyline clip-path=\"url(#clip0802)\" style=\"stroke:#000000; stroke-width:2; stroke-opacity:0.1; fill:none\" points=\"\n",
       "  153.898,1174.97 2352.76,1174.97 \n",
       "  \"/>\n",
       "<polyline clip-path=\"url(#clip0802)\" style=\"stroke:#000000; stroke-width:2; stroke-opacity:0.1; fill:none\" points=\"\n",
       "  153.898,903.23 2352.76,903.23 \n",
       "  \"/>\n",
       "<polyline clip-path=\"url(#clip0802)\" style=\"stroke:#000000; stroke-width:2; stroke-opacity:0.1; fill:none\" points=\"\n",
       "  153.898,631.489 2352.76,631.489 \n",
       "  \"/>\n",
       "<polyline clip-path=\"url(#clip0802)\" style=\"stroke:#000000; stroke-width:2; stroke-opacity:0.1; fill:none\" points=\"\n",
       "  153.898,359.747 2352.76,359.747 \n",
       "  \"/>\n",
       "<polyline clip-path=\"url(#clip0802)\" style=\"stroke:#000000; stroke-width:2; stroke-opacity:0.1; fill:none\" points=\"\n",
       "  153.898,88.0053 2352.76,88.0053 \n",
       "  \"/>\n",
       "<polyline clip-path=\"url(#clip0800)\" style=\"stroke:#000000; stroke-width:4; stroke-opacity:1; fill:none\" points=\"\n",
       "  153.898,1487.47 2352.76,1487.47 \n",
       "  \"/>\n",
       "<polyline clip-path=\"url(#clip0800)\" style=\"stroke:#000000; stroke-width:4; stroke-opacity:1; fill:none\" points=\"\n",
       "  153.898,1487.47 153.898,47.2441 \n",
       "  \"/>\n",
       "<polyline clip-path=\"url(#clip0800)\" style=\"stroke:#000000; stroke-width:4; stroke-opacity:1; fill:none\" points=\"\n",
       "  216.13,1487.47 216.13,1465.87 \n",
       "  \"/>\n",
       "<polyline clip-path=\"url(#clip0800)\" style=\"stroke:#000000; stroke-width:4; stroke-opacity:1; fill:none\" points=\"\n",
       "  734.728,1487.47 734.728,1465.87 \n",
       "  \"/>\n",
       "<polyline clip-path=\"url(#clip0800)\" style=\"stroke:#000000; stroke-width:4; stroke-opacity:1; fill:none\" points=\"\n",
       "  1253.33,1487.47 1253.33,1465.87 \n",
       "  \"/>\n",
       "<polyline clip-path=\"url(#clip0800)\" style=\"stroke:#000000; stroke-width:4; stroke-opacity:1; fill:none\" points=\"\n",
       "  1771.93,1487.47 1771.93,1465.87 \n",
       "  \"/>\n",
       "<polyline clip-path=\"url(#clip0800)\" style=\"stroke:#000000; stroke-width:4; stroke-opacity:1; fill:none\" points=\"\n",
       "  2290.52,1487.47 2290.52,1465.87 \n",
       "  \"/>\n",
       "<polyline clip-path=\"url(#clip0800)\" style=\"stroke:#000000; stroke-width:4; stroke-opacity:1; fill:none\" points=\"\n",
       "  153.898,1446.71 186.881,1446.71 \n",
       "  \"/>\n",
       "<polyline clip-path=\"url(#clip0800)\" style=\"stroke:#000000; stroke-width:4; stroke-opacity:1; fill:none\" points=\"\n",
       "  153.898,1174.97 186.881,1174.97 \n",
       "  \"/>\n",
       "<polyline clip-path=\"url(#clip0800)\" style=\"stroke:#000000; stroke-width:4; stroke-opacity:1; fill:none\" points=\"\n",
       "  153.898,903.23 186.881,903.23 \n",
       "  \"/>\n",
       "<polyline clip-path=\"url(#clip0800)\" style=\"stroke:#000000; stroke-width:4; stroke-opacity:1; fill:none\" points=\"\n",
       "  153.898,631.489 186.881,631.489 \n",
       "  \"/>\n",
       "<polyline clip-path=\"url(#clip0800)\" style=\"stroke:#000000; stroke-width:4; stroke-opacity:1; fill:none\" points=\"\n",
       "  153.898,359.747 186.881,359.747 \n",
       "  \"/>\n",
       "<polyline clip-path=\"url(#clip0800)\" style=\"stroke:#000000; stroke-width:4; stroke-opacity:1; fill:none\" points=\"\n",
       "  153.898,88.0053 186.881,88.0053 \n",
       "  \"/>\n",
       "<g clip-path=\"url(#clip0800)\">\n",
       "<text style=\"fill:#000000; fill-opacity:1; font-family:Arial,Helvetica Neue,Helvetica,sans-serif; font-size:48px; text-anchor:middle;\" transform=\"rotate(0, 216.13, 1541.47)\" x=\"216.13\" y=\"1541.47\">0.00</text>\n",
       "</g>\n",
       "<g clip-path=\"url(#clip0800)\">\n",
       "<text style=\"fill:#000000; fill-opacity:1; font-family:Arial,Helvetica Neue,Helvetica,sans-serif; font-size:48px; text-anchor:middle;\" transform=\"rotate(0, 734.728, 1541.47)\" x=\"734.728\" y=\"1541.47\">0.25</text>\n",
       "</g>\n",
       "<g clip-path=\"url(#clip0800)\">\n",
       "<text style=\"fill:#000000; fill-opacity:1; font-family:Arial,Helvetica Neue,Helvetica,sans-serif; font-size:48px; text-anchor:middle;\" transform=\"rotate(0, 1253.33, 1541.47)\" x=\"1253.33\" y=\"1541.47\">0.50</text>\n",
       "</g>\n",
       "<g clip-path=\"url(#clip0800)\">\n",
       "<text style=\"fill:#000000; fill-opacity:1; font-family:Arial,Helvetica Neue,Helvetica,sans-serif; font-size:48px; text-anchor:middle;\" transform=\"rotate(0, 1771.93, 1541.47)\" x=\"1771.93\" y=\"1541.47\">0.75</text>\n",
       "</g>\n",
       "<g clip-path=\"url(#clip0800)\">\n",
       "<text style=\"fill:#000000; fill-opacity:1; font-family:Arial,Helvetica Neue,Helvetica,sans-serif; font-size:48px; text-anchor:middle;\" transform=\"rotate(0, 2290.52, 1541.47)\" x=\"2290.52\" y=\"1541.47\">1.00</text>\n",
       "</g>\n",
       "<g clip-path=\"url(#clip0800)\">\n",
       "<text style=\"fill:#000000; fill-opacity:1; font-family:Arial,Helvetica Neue,Helvetica,sans-serif; font-size:48px; text-anchor:end;\" transform=\"rotate(0, 129.898, 1464.21)\" x=\"129.898\" y=\"1464.21\">0.0</text>\n",
       "</g>\n",
       "<g clip-path=\"url(#clip0800)\">\n",
       "<text style=\"fill:#000000; fill-opacity:1; font-family:Arial,Helvetica Neue,Helvetica,sans-serif; font-size:48px; text-anchor:end;\" transform=\"rotate(0, 129.898, 1192.47)\" x=\"129.898\" y=\"1192.47\">0.1</text>\n",
       "</g>\n",
       "<g clip-path=\"url(#clip0800)\">\n",
       "<text style=\"fill:#000000; fill-opacity:1; font-family:Arial,Helvetica Neue,Helvetica,sans-serif; font-size:48px; text-anchor:end;\" transform=\"rotate(0, 129.898, 920.73)\" x=\"129.898\" y=\"920.73\">0.2</text>\n",
       "</g>\n",
       "<g clip-path=\"url(#clip0800)\">\n",
       "<text style=\"fill:#000000; fill-opacity:1; font-family:Arial,Helvetica Neue,Helvetica,sans-serif; font-size:48px; text-anchor:end;\" transform=\"rotate(0, 129.898, 648.989)\" x=\"129.898\" y=\"648.989\">0.3</text>\n",
       "</g>\n",
       "<g clip-path=\"url(#clip0800)\">\n",
       "<text style=\"fill:#000000; fill-opacity:1; font-family:Arial,Helvetica Neue,Helvetica,sans-serif; font-size:48px; text-anchor:end;\" transform=\"rotate(0, 129.898, 377.247)\" x=\"129.898\" y=\"377.247\">0.4</text>\n",
       "</g>\n",
       "<g clip-path=\"url(#clip0800)\">\n",
       "<text style=\"fill:#000000; fill-opacity:1; font-family:Arial,Helvetica Neue,Helvetica,sans-serif; font-size:48px; text-anchor:end;\" transform=\"rotate(0, 129.898, 105.505)\" x=\"129.898\" y=\"105.505\">0.5</text>\n",
       "</g>\n",
       "<polyline clip-path=\"url(#clip0802)\" style=\"stroke:#009af9; stroke-width:4; stroke-opacity:1; fill:none\" points=\"\n",
       "  216.13,1446.71 236.388,1446.58 423.704,1433.11 536.273,1414.35 631.449,1392.25 734.836,1361.76 830.15,1327.67 932.337,1284.75 1050.73,1226.78 1155.94,1167.83 \n",
       "  1248.21,1110.38 1348.8,1041.62 1449.99,966.012 1561.87,874.887 1668.32,780.845 1779,675.475 1872.17,580.778 1985.92,457.733 2092.85,334.616 2264.16,122.322 \n",
       "  2290.52,88.0053 \n",
       "  \"/>\n",
       "<polygon clip-path=\"url(#clip0800)\" points=\"\n",
       "1989.93,251.724 2280.76,251.724 2280.76,130.764 1989.93,130.764 \n",
       "  \" fill=\"#ffffff\" fill-rule=\"evenodd\" fill-opacity=\"1\"/>\n",
       "<polyline clip-path=\"url(#clip0800)\" style=\"stroke:#000000; stroke-width:4; stroke-opacity:1; fill:none\" points=\"\n",
       "  1989.93,251.724 2280.76,251.724 2280.76,130.764 1989.93,130.764 1989.93,251.724 \n",
       "  \"/>\n",
       "<polyline clip-path=\"url(#clip0800)\" style=\"stroke:#009af9; stroke-width:4; stroke-opacity:1; fill:none\" points=\"\n",
       "  2013.93,191.244 2157.93,191.244 \n",
       "  \"/>\n",
       "<g clip-path=\"url(#clip0800)\">\n",
       "<text style=\"fill:#000000; fill-opacity:1; font-family:Arial,Helvetica Neue,Helvetica,sans-serif; font-size:48px; text-anchor:start;\" transform=\"rotate(0, 2181.93, 208.744)\" x=\"2181.93\" y=\"208.744\">y1</text>\n",
       "</g>\n",
       "</svg>\n"
      ]
     },
     "execution_count": 7,
     "metadata": {},
     "output_type": "execute_result"
    }
   ],
   "source": [
    "using Plots\n",
    "plot(q->cNew(q,0.5),0.0,1.0)"
   ]
  },
  {
   "cell_type": "markdown",
   "metadata": {},
   "source": [
    "What is this magical creation \"q->cNew(q,0.5)\" ? This is actually a quick and dirty function definition (it defines a function but does not give this function a name which is the slightly dirty part). That is, \"q->cNew(q,0.5)\" means \"assign to every q the value cNew(q,0.5)\". It is therefore a function that maps q to cNew(q,0.5). Plots accepts this as a function and plots it.\n",
    "\n",
    "There is a second way of doing this which defines the function q->cNew(q,0.5) exlicitly and then plots it. Let me call this function \"wrapper\":"
   ]
  },
  {
   "cell_type": "code",
   "execution_count": 8,
   "metadata": {},
   "outputs": [
    {
     "data": {
      "image/svg+xml": [
       "<?xml version=\"1.0\" encoding=\"utf-8\"?>\n",
       "<svg xmlns=\"http://www.w3.org/2000/svg\" xmlns:xlink=\"http://www.w3.org/1999/xlink\" width=\"600\" height=\"400\" viewBox=\"0 0 2400 1600\">\n",
       "<defs>\n",
       "  <clipPath id=\"clip1200\">\n",
       "    <rect x=\"0\" y=\"0\" width=\"2400\" height=\"1600\"/>\n",
       "  </clipPath>\n",
       "</defs>\n",
       "<polygon clip-path=\"url(#clip1200)\" points=\"\n",
       "0,1600 2400,1600 2400,0 0,0 \n",
       "  \" fill=\"#ffffff\" fill-rule=\"evenodd\" fill-opacity=\"1\"/>\n",
       "<defs>\n",
       "  <clipPath id=\"clip1201\">\n",
       "    <rect x=\"480\" y=\"0\" width=\"1681\" height=\"1600\"/>\n",
       "  </clipPath>\n",
       "</defs>\n",
       "<polygon clip-path=\"url(#clip1200)\" points=\"\n",
       "153.898,1487.47 2352.76,1487.47 2352.76,47.2441 153.898,47.2441 \n",
       "  \" fill=\"#ffffff\" fill-rule=\"evenodd\" fill-opacity=\"1\"/>\n",
       "<defs>\n",
       "  <clipPath id=\"clip1202\">\n",
       "    <rect x=\"153\" y=\"47\" width=\"2200\" height=\"1441\"/>\n",
       "  </clipPath>\n",
       "</defs>\n",
       "<polyline clip-path=\"url(#clip1202)\" style=\"stroke:#000000; stroke-width:2; stroke-opacity:0.1; fill:none\" points=\"\n",
       "  216.13,1487.47 216.13,47.2441 \n",
       "  \"/>\n",
       "<polyline clip-path=\"url(#clip1202)\" style=\"stroke:#000000; stroke-width:2; stroke-opacity:0.1; fill:none\" points=\"\n",
       "  734.728,1487.47 734.728,47.2441 \n",
       "  \"/>\n",
       "<polyline clip-path=\"url(#clip1202)\" style=\"stroke:#000000; stroke-width:2; stroke-opacity:0.1; fill:none\" points=\"\n",
       "  1253.33,1487.47 1253.33,47.2441 \n",
       "  \"/>\n",
       "<polyline clip-path=\"url(#clip1202)\" style=\"stroke:#000000; stroke-width:2; stroke-opacity:0.1; fill:none\" points=\"\n",
       "  1771.93,1487.47 1771.93,47.2441 \n",
       "  \"/>\n",
       "<polyline clip-path=\"url(#clip1202)\" style=\"stroke:#000000; stroke-width:2; stroke-opacity:0.1; fill:none\" points=\"\n",
       "  2290.52,1487.47 2290.52,47.2441 \n",
       "  \"/>\n",
       "<polyline clip-path=\"url(#clip1202)\" style=\"stroke:#000000; stroke-width:2; stroke-opacity:0.1; fill:none\" points=\"\n",
       "  153.898,1446.71 2352.76,1446.71 \n",
       "  \"/>\n",
       "<polyline clip-path=\"url(#clip1202)\" style=\"stroke:#000000; stroke-width:2; stroke-opacity:0.1; fill:none\" points=\"\n",
       "  153.898,1174.97 2352.76,1174.97 \n",
       "  \"/>\n",
       "<polyline clip-path=\"url(#clip1202)\" style=\"stroke:#000000; stroke-width:2; stroke-opacity:0.1; fill:none\" points=\"\n",
       "  153.898,903.23 2352.76,903.23 \n",
       "  \"/>\n",
       "<polyline clip-path=\"url(#clip1202)\" style=\"stroke:#000000; stroke-width:2; stroke-opacity:0.1; fill:none\" points=\"\n",
       "  153.898,631.489 2352.76,631.489 \n",
       "  \"/>\n",
       "<polyline clip-path=\"url(#clip1202)\" style=\"stroke:#000000; stroke-width:2; stroke-opacity:0.1; fill:none\" points=\"\n",
       "  153.898,359.747 2352.76,359.747 \n",
       "  \"/>\n",
       "<polyline clip-path=\"url(#clip1202)\" style=\"stroke:#000000; stroke-width:2; stroke-opacity:0.1; fill:none\" points=\"\n",
       "  153.898,88.0053 2352.76,88.0053 \n",
       "  \"/>\n",
       "<polyline clip-path=\"url(#clip1200)\" style=\"stroke:#000000; stroke-width:4; stroke-opacity:1; fill:none\" points=\"\n",
       "  153.898,1487.47 2352.76,1487.47 \n",
       "  \"/>\n",
       "<polyline clip-path=\"url(#clip1200)\" style=\"stroke:#000000; stroke-width:4; stroke-opacity:1; fill:none\" points=\"\n",
       "  153.898,1487.47 153.898,47.2441 \n",
       "  \"/>\n",
       "<polyline clip-path=\"url(#clip1200)\" style=\"stroke:#000000; stroke-width:4; stroke-opacity:1; fill:none\" points=\"\n",
       "  216.13,1487.47 216.13,1465.87 \n",
       "  \"/>\n",
       "<polyline clip-path=\"url(#clip1200)\" style=\"stroke:#000000; stroke-width:4; stroke-opacity:1; fill:none\" points=\"\n",
       "  734.728,1487.47 734.728,1465.87 \n",
       "  \"/>\n",
       "<polyline clip-path=\"url(#clip1200)\" style=\"stroke:#000000; stroke-width:4; stroke-opacity:1; fill:none\" points=\"\n",
       "  1253.33,1487.47 1253.33,1465.87 \n",
       "  \"/>\n",
       "<polyline clip-path=\"url(#clip1200)\" style=\"stroke:#000000; stroke-width:4; stroke-opacity:1; fill:none\" points=\"\n",
       "  1771.93,1487.47 1771.93,1465.87 \n",
       "  \"/>\n",
       "<polyline clip-path=\"url(#clip1200)\" style=\"stroke:#000000; stroke-width:4; stroke-opacity:1; fill:none\" points=\"\n",
       "  2290.52,1487.47 2290.52,1465.87 \n",
       "  \"/>\n",
       "<polyline clip-path=\"url(#clip1200)\" style=\"stroke:#000000; stroke-width:4; stroke-opacity:1; fill:none\" points=\"\n",
       "  153.898,1446.71 186.881,1446.71 \n",
       "  \"/>\n",
       "<polyline clip-path=\"url(#clip1200)\" style=\"stroke:#000000; stroke-width:4; stroke-opacity:1; fill:none\" points=\"\n",
       "  153.898,1174.97 186.881,1174.97 \n",
       "  \"/>\n",
       "<polyline clip-path=\"url(#clip1200)\" style=\"stroke:#000000; stroke-width:4; stroke-opacity:1; fill:none\" points=\"\n",
       "  153.898,903.23 186.881,903.23 \n",
       "  \"/>\n",
       "<polyline clip-path=\"url(#clip1200)\" style=\"stroke:#000000; stroke-width:4; stroke-opacity:1; fill:none\" points=\"\n",
       "  153.898,631.489 186.881,631.489 \n",
       "  \"/>\n",
       "<polyline clip-path=\"url(#clip1200)\" style=\"stroke:#000000; stroke-width:4; stroke-opacity:1; fill:none\" points=\"\n",
       "  153.898,359.747 186.881,359.747 \n",
       "  \"/>\n",
       "<polyline clip-path=\"url(#clip1200)\" style=\"stroke:#000000; stroke-width:4; stroke-opacity:1; fill:none\" points=\"\n",
       "  153.898,88.0053 186.881,88.0053 \n",
       "  \"/>\n",
       "<g clip-path=\"url(#clip1200)\">\n",
       "<text style=\"fill:#000000; fill-opacity:1; font-family:Arial,Helvetica Neue,Helvetica,sans-serif; font-size:48px; text-anchor:middle;\" transform=\"rotate(0, 216.13, 1541.47)\" x=\"216.13\" y=\"1541.47\">0.00</text>\n",
       "</g>\n",
       "<g clip-path=\"url(#clip1200)\">\n",
       "<text style=\"fill:#000000; fill-opacity:1; font-family:Arial,Helvetica Neue,Helvetica,sans-serif; font-size:48px; text-anchor:middle;\" transform=\"rotate(0, 734.728, 1541.47)\" x=\"734.728\" y=\"1541.47\">0.25</text>\n",
       "</g>\n",
       "<g clip-path=\"url(#clip1200)\">\n",
       "<text style=\"fill:#000000; fill-opacity:1; font-family:Arial,Helvetica Neue,Helvetica,sans-serif; font-size:48px; text-anchor:middle;\" transform=\"rotate(0, 1253.33, 1541.47)\" x=\"1253.33\" y=\"1541.47\">0.50</text>\n",
       "</g>\n",
       "<g clip-path=\"url(#clip1200)\">\n",
       "<text style=\"fill:#000000; fill-opacity:1; font-family:Arial,Helvetica Neue,Helvetica,sans-serif; font-size:48px; text-anchor:middle;\" transform=\"rotate(0, 1771.93, 1541.47)\" x=\"1771.93\" y=\"1541.47\">0.75</text>\n",
       "</g>\n",
       "<g clip-path=\"url(#clip1200)\">\n",
       "<text style=\"fill:#000000; fill-opacity:1; font-family:Arial,Helvetica Neue,Helvetica,sans-serif; font-size:48px; text-anchor:middle;\" transform=\"rotate(0, 2290.52, 1541.47)\" x=\"2290.52\" y=\"1541.47\">1.00</text>\n",
       "</g>\n",
       "<g clip-path=\"url(#clip1200)\">\n",
       "<text style=\"fill:#000000; fill-opacity:1; font-family:Arial,Helvetica Neue,Helvetica,sans-serif; font-size:48px; text-anchor:end;\" transform=\"rotate(0, 129.898, 1464.21)\" x=\"129.898\" y=\"1464.21\">0.0</text>\n",
       "</g>\n",
       "<g clip-path=\"url(#clip1200)\">\n",
       "<text style=\"fill:#000000; fill-opacity:1; font-family:Arial,Helvetica Neue,Helvetica,sans-serif; font-size:48px; text-anchor:end;\" transform=\"rotate(0, 129.898, 1192.47)\" x=\"129.898\" y=\"1192.47\">0.1</text>\n",
       "</g>\n",
       "<g clip-path=\"url(#clip1200)\">\n",
       "<text style=\"fill:#000000; fill-opacity:1; font-family:Arial,Helvetica Neue,Helvetica,sans-serif; font-size:48px; text-anchor:end;\" transform=\"rotate(0, 129.898, 920.73)\" x=\"129.898\" y=\"920.73\">0.2</text>\n",
       "</g>\n",
       "<g clip-path=\"url(#clip1200)\">\n",
       "<text style=\"fill:#000000; fill-opacity:1; font-family:Arial,Helvetica Neue,Helvetica,sans-serif; font-size:48px; text-anchor:end;\" transform=\"rotate(0, 129.898, 648.989)\" x=\"129.898\" y=\"648.989\">0.3</text>\n",
       "</g>\n",
       "<g clip-path=\"url(#clip1200)\">\n",
       "<text style=\"fill:#000000; fill-opacity:1; font-family:Arial,Helvetica Neue,Helvetica,sans-serif; font-size:48px; text-anchor:end;\" transform=\"rotate(0, 129.898, 377.247)\" x=\"129.898\" y=\"377.247\">0.4</text>\n",
       "</g>\n",
       "<g clip-path=\"url(#clip1200)\">\n",
       "<text style=\"fill:#000000; fill-opacity:1; font-family:Arial,Helvetica Neue,Helvetica,sans-serif; font-size:48px; text-anchor:end;\" transform=\"rotate(0, 129.898, 105.505)\" x=\"129.898\" y=\"105.505\">0.5</text>\n",
       "</g>\n",
       "<polyline clip-path=\"url(#clip1202)\" style=\"stroke:#009af9; stroke-width:4; stroke-opacity:1; fill:none\" points=\"\n",
       "  216.13,1446.71 236.388,1446.58 423.704,1433.11 536.273,1414.35 631.449,1392.25 734.836,1361.76 830.15,1327.67 932.337,1284.75 1050.73,1226.78 1155.94,1167.83 \n",
       "  1248.21,1110.38 1348.8,1041.62 1449.99,966.012 1561.87,874.887 1668.32,780.845 1779,675.475 1872.17,580.778 1985.92,457.733 2092.85,334.616 2264.16,122.322 \n",
       "  2290.52,88.0053 \n",
       "  \"/>\n",
       "<polygon clip-path=\"url(#clip1200)\" points=\"\n",
       "1989.93,251.724 2280.76,251.724 2280.76,130.764 1989.93,130.764 \n",
       "  \" fill=\"#ffffff\" fill-rule=\"evenodd\" fill-opacity=\"1\"/>\n",
       "<polyline clip-path=\"url(#clip1200)\" style=\"stroke:#000000; stroke-width:4; stroke-opacity:1; fill:none\" points=\"\n",
       "  1989.93,251.724 2280.76,251.724 2280.76,130.764 1989.93,130.764 1989.93,251.724 \n",
       "  \"/>\n",
       "<polyline clip-path=\"url(#clip1200)\" style=\"stroke:#009af9; stroke-width:4; stroke-opacity:1; fill:none\" points=\"\n",
       "  2013.93,191.244 2157.93,191.244 \n",
       "  \"/>\n",
       "<g clip-path=\"url(#clip1200)\">\n",
       "<text style=\"fill:#000000; fill-opacity:1; font-family:Arial,Helvetica Neue,Helvetica,sans-serif; font-size:48px; text-anchor:start;\" transform=\"rotate(0, 2181.93, 208.744)\" x=\"2181.93\" y=\"208.744\">y1</text>\n",
       "</g>\n",
       "</svg>\n"
      ]
     },
     "execution_count": 8,
     "metadata": {},
     "output_type": "execute_result"
    }
   ],
   "source": [
    "wrapper(q) = cNew(q,0.5)\n",
    "plot(wrapper,0.0,1.0)"
   ]
  },
  {
   "cell_type": "markdown",
   "metadata": {},
   "source": [
    "Note that the same problem arises when, for example, instead of plotting you want to maximize a function that has a parameter as argument. (The maximization algorithm cannot know whether it should maximize over the parameter or not.) Again the solution is to use an anonymous function as above or an explicit wrapper."
   ]
  }
 ],
 "metadata": {
  "kernelspec": {
   "display_name": "Julia 1.2.0",
   "language": "julia",
   "name": "julia-1.2"
  },
  "language_info": {
   "file_extension": ".jl",
   "mimetype": "application/julia",
   "name": "julia",
   "version": "1.2.0"
  }
 },
 "nbformat": 4,
 "nbformat_minor": 2
}
