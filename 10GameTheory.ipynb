{
 "cells": [
  {
   "cell_type": "markdown",
   "id": "d2bfe78a-4ad8-4a79-bf67-c3fb150ad6f8",
   "metadata": {},
   "source": [
    "# Game Theory"
   ]
  },
  {
   "cell_type": "markdown",
   "id": "a3b91474-0ebc-4dcf-a82a-20db15336734",
   "metadata": {},
   "source": [
    "The package GameTheory.jl provides some basic features to analyze finite normal form games of complete information (some methods for repeated games are also provided but not discussed here). For example the following prisoner's dilemma can be created and analyzed as follows below.\n",
    "\n",
    "|  |D |C |\n",
    "|--|--|--|\n",
    "|D|-5,-5|-1,-10|\n",
    "|C|-10,-1|-3,-3|"
   ]
  },
  {
   "cell_type": "markdown",
   "id": "8e9c3d33-030d-4576-bb0d-3ae45f4aba76",
   "metadata": {},
   "source": [
    "## Creating games"
   ]
  },
  {
   "cell_type": "code",
   "execution_count": 2,
   "id": "2f1231a1-fcbd-4830-88d6-ee0edb38e91c",
   "metadata": {},
   "outputs": [
    {
     "name": "stdout",
     "output_type": "stream",
     "text": [
      "2×2 NormalFormGame{2, Int64}:\n",
      " [-5, -5]   [-1, -10]\n",
      " [-10, -1]  [-3, -3]"
     ]
    }
   ],
   "source": [
    "using GameTheory\n",
    "\n",
    "player1 = Player([-5 -1; -10 -3])\n",
    "player2 = Player([-5 -1; -10 -3])\n",
    "g_pd = NormalFormGame((player1, player2))\n",
    "print(g_pd)"
   ]
  },
  {
   "cell_type": "markdown",
   "id": "1d104592-2bd4-45e6-b932-a435f18be042",
   "metadata": {},
   "source": [
    "Note that when we generate player i with the Player() function, the first row of the payoffs corresponds to payoffs of player i that he can obtain with his first action. That is, the order of payoffs of player 2 does not correspond to the usual normal form game table but its transpose. If you find this complicated, you will be happy to hear that alternatively you can create a game from the normal form as follows below:"
   ]
  },
  {
   "cell_type": "code",
   "execution_count": 5,
   "id": "dfd054e2-f25b-4bdf-84ba-de9524b4dd17",
   "metadata": {},
   "outputs": [
    {
     "name": "stdout",
     "output_type": "stream",
     "text": [
      "2×2 NormalFormGame{2, Int64}:\n",
      " [-5, -5]   [-1, -10]\n",
      " [-10, -1]  [-3, -3]"
     ]
    }
   ],
   "source": [
    "payoff_bimatrix = Array{Int}(undef, 2, 2, 2)\n",
    "payoff_bimatrix[1, 1, :] = [-5, -5]\n",
    "payoff_bimatrix[1, 2, :] = [-1, -10]\n",
    "payoff_bimatrix[2, 1, :] = [-10, -1]\n",
    "payoff_bimatrix[2, 2, :] = [-3, -3]\n",
    "g_pd2 = NormalFormGame(payoff_bimatrix)\n",
    "print(g_pd2)"
   ]
  },
  {
   "cell_type": "markdown",
   "id": "ee57c561-9780-41e6-af8c-1ad622e309fb",
   "metadata": {},
   "source": [
    "## Best response"
   ]
  },
  {
   "cell_type": "markdown",
   "id": "b2792c22-2262-416e-8aae-9e9910b33f67",
   "metadata": {},
   "source": [
    "To determine a player's best response we have the function best_response(player,strategyOther)."
   ]
  },
  {
   "cell_type": "code",
   "execution_count": 6,
   "id": "6b86eaff-1275-494e-8310-f4751f03986a",
   "metadata": {},
   "outputs": [
    {
     "data": {
      "text/plain": [
       "1"
      ]
     },
     "execution_count": 6,
     "metadata": {},
     "output_type": "execute_result"
    }
   ],
   "source": [
    "best_response(g_pd.players[1], 1) #determines player 1's best response to the first action of player 2\n"
   ]
  },
  {
   "cell_type": "code",
   "execution_count": 7,
   "id": "372bffd3-1cf3-4c9e-ab50-400b3f7ea838",
   "metadata": {},
   "outputs": [
    {
     "data": {
      "text/plain": [
       "1"
      ]
     },
     "execution_count": 7,
     "metadata": {},
     "output_type": "execute_result"
    }
   ],
   "source": [
    "best_response(g_pd.players[1], [0.5, 0.5]) #determines player 1's best response to the mixed strategy [0.5, 0.5] of player 2"
   ]
  },
  {
   "cell_type": "markdown",
   "id": "fa2f917a-519a-415d-84f3-5de925dd53a3",
   "metadata": {},
   "source": [
    "## Nash equilibrium"
   ]
  },
  {
   "cell_type": "markdown",
   "id": "7568666a-9a5e-4f05-8c9a-7f6baab32714",
   "metadata": {},
   "source": [
    "We can check whether a given strategy profile is a Nash equilibrium using the function is_nash(g,a)."
   ]
  },
  {
   "cell_type": "code",
   "execution_count": 8,
   "id": "9ae4a592-c230-484a-9ff7-f0d64929364a",
   "metadata": {},
   "outputs": [
    {
     "data": {
      "text/plain": [
       "true"
      ]
     },
     "execution_count": 8,
     "metadata": {},
     "output_type": "execute_result"
    }
   ],
   "source": [
    "is_nash(g_pd,(1,1)) #checks whether each player using his first action is a Nash equilibrium"
   ]
  },
  {
   "cell_type": "code",
   "execution_count": 9,
   "id": "ab324a95-538e-4788-a54f-f4872abddf22",
   "metadata": {},
   "outputs": [
    {
     "data": {
      "text/plain": [
       "false"
      ]
     },
     "execution_count": 9,
     "metadata": {},
     "output_type": "execute_result"
    }
   ],
   "source": [
    "is_nash(g_pd,([0.3, 0.7],[0.4,0.6])) #checks whether player 1 using mixed strategy [0.3, 0.7] and player 2 using mixed strategy [0.4, 0.6] is a NE"
   ]
  },
  {
   "cell_type": "markdown",
   "id": "ce800e9e-5602-4f4a-b62d-4be8ee90b77a",
   "metadata": {},
   "source": [
    "There are various ways to determine Nash equilibria of a given game. The function pure_nash finds all pure strategy Nash equilibria of a game."
   ]
  },
  {
   "cell_type": "code",
   "execution_count": 7,
   "id": "7f030f92-5488-4f53-a31a-15b6f3ee8479",
   "metadata": {},
   "outputs": [
    {
     "data": {
      "text/plain": [
       "1-element Vector{Tuple{Int64, Int64}}:\n",
       " (1, 1)"
      ]
     },
     "execution_count": 7,
     "metadata": {},
     "output_type": "execute_result"
    }
   ],
   "source": [
    "pure_nash(g_pd)"
   ]
  },
  {
   "cell_type": "markdown",
   "id": "c62a5169-ae31-43c0-bde2-12395f76bbea",
   "metadata": {},
   "source": [
    "The output (1,1) means that each player choosing his first action is a Nash equilibrium. Let us check the same in a game with multiple Nash equilibria -- the so-called stag hunt.\n",
    "\n",
    "|  |S |H |\n",
    "|--|--|--|\n",
    "|S|4,4|0,2|\n",
    "|H|2,0|0,0|"
   ]
  },
  {
   "cell_type": "code",
   "execution_count": 2,
   "id": "57830604-8455-48e2-b062-7b029966ff18",
   "metadata": {},
   "outputs": [
    {
     "name": "stdout",
     "output_type": "stream",
     "text": [
      "2×2 NormalFormGame{2, Int64}:\n",
      " [4, 4]  [0, 2]\n",
      " [2, 0]  [2, 2]"
     ]
    },
    {
     "data": {
      "text/plain": [
       "2-element Vector{Tuple{Int64, Int64}}:\n",
       " (1, 1)\n",
       " (2, 2)"
      ]
     },
     "execution_count": 2,
     "metadata": {},
     "output_type": "execute_result"
    }
   ],
   "source": [
    "payoff_bimatrix = Array{Int}(undef, 2, 2, 2)\n",
    "payoff_bimatrix[1, 1, :] = [4, 4]\n",
    "payoff_bimatrix[1, 2, :] = [0, 2]\n",
    "payoff_bimatrix[2, 1, :] = [2, 0]\n",
    "payoff_bimatrix[2, 2, :] = [2, 2]\n",
    "g_sh = NormalFormGame(payoff_bimatrix)\n",
    "print(g_sh)\n",
    "pure_nash(g_sh)"
   ]
  },
  {
   "cell_type": "markdown",
   "id": "f9e1b64b-4ae9-4b07-9e35-dabd2f29fb58",
   "metadata": {},
   "source": [
    "We can also determine mixed strategy Nash equilibria using the function hc_solve(g;ntofind=Inf) where ntofind is the number of Equilibria the algorithm should find and Inf means all Nash equilibria in this context. (Note that this takes quite some time even for small games!)"
   ]
  },
  {
   "cell_type": "code",
   "execution_count": 9,
   "id": "a962a12d-16d4-40a5-b31a-689fe0319e02",
   "metadata": {},
   "outputs": [
    {
     "name": "stdout",
     "output_type": "stream",
     "text": [
      "\u001b[32mTracking 5 paths... 100%|███████████████████████████████| Time: 0:00:04\u001b[39m\n",
      "\u001b[34m  # paths tracked:                  5\u001b[39m\n",
      "\u001b[34m  # non-singular solutions (real):  5 (5)\u001b[39m\n",
      "\u001b[34m  # singular endpoints (real):      0 (0)\u001b[39m\n",
      "\u001b[34m  # total solutions (real):         5 (5)\u001b[39m\n"
     ]
    },
    {
     "data": {
      "text/plain": [
       "3-element Vector{Tuple{Vector{Float64}, Vector{Float64}}}:\n",
       " ([0.5, 0.5], [0.5, 0.5])\n",
       " ([1.0, 0.0], [1.0, 0.0])\n",
       " ([0.0, 1.0], [0.0, 1.0])"
      ]
     },
     "execution_count": 9,
     "metadata": {},
     "output_type": "execute_result"
    }
   ],
   "source": [
    "hc_solve(g_sh; ntofind=Inf)"
   ]
  },
  {
   "cell_type": "markdown",
   "id": "26109a80-5d8a-474d-974c-a0a44f0b9a23",
   "metadata": {},
   "source": [
    "That is, we have 3 mixed strategy Nash equilibria in the stag hunt. the first one has both players mixing putting probability 1/2 on each of their actions while the second and third are the pure strategy equilibria we already saw before."
   ]
  },
  {
   "cell_type": "markdown",
   "id": "460e6a6b-dea6-4534-adef-7017eddc4da1",
   "metadata": {},
   "source": [
    "For 2-player games there are also other methods to determine mixed strategy equilibria. Namely, the function lrsnash(g) (which can only be used if payoffs are integers or rationals) and support_enumeration(g).  "
   ]
  },
  {
   "cell_type": "code",
   "execution_count": 3,
   "id": "b4e20c75-07bb-4c6f-a7bf-49a62c4000fa",
   "metadata": {},
   "outputs": [
    {
     "data": {
      "text/plain": [
       "3-element Vector{Tuple{Vector{Rational{BigInt}}, Vector{Rational{BigInt}}}}:\n",
       " ([1//2, 1//2], [1//2, 1//2])\n",
       " ([0, 1], [0, 1])\n",
       " ([1, 0], [1, 0])"
      ]
     },
     "execution_count": 3,
     "metadata": {},
     "output_type": "execute_result"
    }
   ],
   "source": [
    "lrsnash(g_sh)"
   ]
  },
  {
   "cell_type": "code",
   "execution_count": 4,
   "id": "c666351c-9fb5-4b4e-82b8-f8e5256ae8da",
   "metadata": {},
   "outputs": [
    {
     "data": {
      "text/plain": [
       "3-element Vector{Tuple{Vector{Float64}, Vector{Float64}}}:\n",
       " ([1.0, 0.0], [1.0, 0.0])\n",
       " ([0.0, 1.0], [0.0, 1.0])\n",
       " ([0.5, 0.5], [0.5, 0.5])"
      ]
     },
     "execution_count": 4,
     "metadata": {},
     "output_type": "execute_result"
    }
   ],
   "source": [
    "support_enumeration(g_sh)"
   ]
  },
  {
   "cell_type": "markdown",
   "id": "96d5808d-898b-43d7-9665-2e6d54f4465f",
   "metadata": {},
   "source": [
    "## Discrete approximation of continuous action games"
   ]
  },
  {
   "cell_type": "markdown",
   "id": "70582480-4167-42dd-a1a0-880b10d9e828",
   "metadata": {},
   "source": [
    "GameTheory.jl can only work with finite games. In particular, this implies that the number of possible actions that a player has must be finite. Many games in economics are not like that. For example, in a Cournot game 2 (or more) firms simultaneously choose their quantity $q_i$ which the leads to a market price of $1-q_1-q_2$. We typically assume that firms can choose any quantity in the interval $[0,1]$. If we want to analyze this game with GameTheory.jl we need to dicretize this game, i.e. we will assume that firms can only choose quantities in the set $\\{0,0.01,0.02,0.03,\\dots,1.0\\}$. THe function discreteGame() that I wrote below generates a discrete game from a vector of payoff functions (here the payoff function of firm i is assumed to be $q_i(1-q_1-q_2)$, i.e. Cournot competition with zero costs)."
   ]
  },
  {
   "cell_type": "code",
   "execution_count": 26,
   "id": "e29e58f0-91f0-461b-9333-a7a416ad8ca1",
   "metadata": {},
   "outputs": [
    {
     "data": {
      "text/plain": [
       "3-element Vector{Tuple{Int64, Int64}}:\n",
       " (34, 34)\n",
       " (35, 34)\n",
       " (34, 35)"
      ]
     },
     "execution_count": 26,
     "metadata": {},
     "output_type": "execute_result"
    }
   ],
   "source": [
    "function discreteGame(piFctVec,aVec)\n",
    "    \"\"\"\n",
    "    discreteGame(piFctVec,aVec)\n",
    "\n",
    "    Arguments:\n",
    "    - piFctVect is a vector containing the payoff function of player i\n",
    "      in its ith element. This function assigns to action vector a\n",
    "      (where a[i] is the action of player i) the payoff of player i at\n",
    "      a\n",
    "    - aVec contains the action set of player i in its ith element (as\n",
    "      a Vector or tuple)\n",
    "\n",
    "    Returns:\n",
    "    a normal form game in the NormalFormGame format of the package\n",
    "    GameTheory.jl\n",
    "    \"\"\"\n",
    "    N = length(aVec) # number of players\n",
    "    nums_actions = ntuple(j -> length(aVec[j]),N)\n",
    "    mygame = NormalFormGame(nums_actions)\n",
    "    for aIndexProfile in CartesianIndices(nums_actions)\n",
    "        aprofile = [aVec[j][aIndexProfile[j]] for j in 1:N]\n",
    "        mygame[aIndexProfile] = [piFctVec[i](aprofile) for i in 1:N]\n",
    "    end\n",
    "    return mygame\n",
    "end\n",
    "\n",
    "piFctVec = [x->x[1]*(1-x[1]-x[2]),x->x[2]*(1-x[1]-x[2])]\n",
    "aVec = (collect(0:0.01:1.0),collect(0:0.01:1.0))\n",
    "\n",
    "g_cournot = discreteGame(piFctVec,aVec)\n",
    "pure_nash(g_cournot)"
   ]
  },
  {
   "cell_type": "markdown",
   "id": "15ac6d04-5867-4534-88ed-152b17b74924",
   "metadata": {},
   "source": [
    "We see that discretization often comes with its own little surprises: while the usual Cournot game has a unique Nash equilibrium, the discretized version has 3 pure strategy Nash equilibria which, however, are very similar/close to one naother as well as to the continuous action Nash equilibrium in which both firms choose $q_i=1/3$.\n",
    "\n",
    "(Note: searching for mixed strategy Nash equilibria in such large games (i.e. games with so many actions) is not recommended as it takes a very long time.)"
   ]
  },
  {
   "cell_type": "markdown",
   "id": "bedcf4eb",
   "metadata": {},
   "source": [
    "## Dominance and iterative elimination of strictly dominated strategies"
   ]
  },
  {
   "cell_type": "markdown",
   "id": "15902d95",
   "metadata": {},
   "source": [
    "We can check which actions of a player are strictly dominated (by a mixed strategy!). For example, in the game below\n",
    "\n",
    "||L|R|\n",
    "|--|--|--|\n",
    "|U|3,1|0,0|\n",
    "|M|1,0|0,1|\n",
    "|D|0,1|3,0|\n",
    "\n",
    "player 1's mixed strategy (1/2,0,1/2) strictly dominates $M$."
   ]
  },
  {
   "cell_type": "code",
   "execution_count": 17,
   "id": "1bc4f948",
   "metadata": {},
   "outputs": [
    {
     "name": "stdout",
     "output_type": "stream",
     "text": [
      "3×2 NormalFormGame{2, Int64}:\n",
      " [3, 1]  [0, 0]\n",
      " [1, 0]  [0, 1]\n",
      " [0, 1]  [3, 0]"
     ]
    }
   ],
   "source": [
    "p1 = Player([3 0;1 0;0 3])\n",
    "p2 = Player([1 0 1;0 1 0])\n",
    "g_d = NormalFormGame((p1,p2))\n",
    "print(g_d)"
   ]
  },
  {
   "cell_type": "code",
   "execution_count": 11,
   "id": "4df607c0",
   "metadata": {},
   "outputs": [
    {
     "data": {
      "text/plain": [
       "1-element Vector{Int64}:\n",
       " 2"
      ]
     },
     "execution_count": 11,
     "metadata": {},
     "output_type": "execute_result"
    }
   ],
   "source": [
    "dominated_actions(g_d.players[1]) # or dominated_actions(p1)"
   ]
  },
  {
   "cell_type": "markdown",
   "id": "19f8e221",
   "metadata": {},
   "source": [
    "Using the dominated_actions(player) function, we can now define a function that iteratively eliminates strictly dominated actions."
   ]
  },
  {
   "cell_type": "code",
   "execution_count": 25,
   "id": "f3500e48",
   "metadata": {},
   "outputs": [
    {
     "name": "stdout",
     "output_type": "stream",
     "text": [
      "1×1 NormalFormGame{2, Int64}:\n",
      " [3, 1]"
     ]
    }
   ],
   "source": [
    "function iesds(game::NormalFormGame)\n",
    "    g = game\n",
    "    i = 1 #denotes the player that is currently checked\n",
    "    while i<=num_players(game)\n",
    "        dominated = dominated_actions(g.players[i])\n",
    "        if length(dominated)>=1 #if at least one dominated action was found\n",
    "            g = delete_action(g,dominated,i) #delete dominated actions of i from the game\n",
    "            if i==1 #if we eliminated some action(s) of player 1, we move on to player 2\n",
    "                i=2\n",
    "            else #if we eliminated some action(s) of player i>1, we restart from player 1\n",
    "                i=1 \n",
    "            end\n",
    "        else\n",
    "            i=i+1\n",
    "        end\n",
    "    end\n",
    "    return g\n",
    "end\n",
    "\n",
    "print(iesds(g_d))"
   ]
  },
  {
   "cell_type": "markdown",
   "id": "9df0d6a6",
   "metadata": {},
   "source": [
    "In the original game g_d, $M$ was strictly dominated by $(1/2,0,1/2)$. After eliminating $M$, $R$ is strictly dominated by $L$ for player 2 in the remaining game. After eliminating $R$, $U$ strictly dominates $D$ and we are left with a \"game\" in which each player has only one action. \n",
    "\n",
    "Let us try IESDS on the Cournot game above:"
   ]
  },
  {
   "cell_type": "code",
   "execution_count": 28,
   "id": "064fa12a",
   "metadata": {},
   "outputs": [
    {
     "name": "stdout",
     "output_type": "stream",
     "text": [
      "2×2 NormalFormGame{2, Float64}:\n",
      " [0.1122, 0.1122]  [0.1089, 0.1122]\n",
      " [0.1122, 0.1089]  [0.1088, 0.1088]"
     ]
    }
   ],
   "source": [
    "print(iesds(g_cournot))"
   ]
  },
  {
   "cell_type": "markdown",
   "id": "0fd237c2",
   "metadata": {},
   "source": [
    "This was highly successful: From originally 101 actions per player, only 2 survived the procedure. However, you can see that now we have a problem. Which actions did survive? The procedure above only returns the payoffs but not the original names of the surviving actions. Let's fix that."
   ]
  },
  {
   "cell_type": "code",
   "execution_count": 38,
   "id": "2b19caf9",
   "metadata": {},
   "outputs": [
    {
     "name": "stdout",
     "output_type": "stream",
     "text": [
      "2×2 NormalFormGame{2, Float64}:\n",
      " [0.1122, 0.1122]  [0.1089, 0.1122]\n",
      " [0.1122, 0.1089]  [0.1088, 0.1088]\n",
      "[[34, 35], [34, 35]]\n"
     ]
    }
   ],
   "source": [
    "function iesds_aNames(game::NormalFormGame)\n",
    "    g = game\n",
    "    n = num_players(game)\n",
    "    num_actions_vec = [num_actions(player) for player in game.players] #vector with the number of actions of each player\n",
    "    surviving_actions = [collect(1:num_actions_vec[j]) for j in 1:n] #vector of vectors that has as its i-th element a vector containing the surviving actions of player i. Of course, we start with all actions for now and delete some later.\n",
    "    i = 1 #denotes the player that is currently checked\n",
    "    while i<=n\n",
    "        dominated = dominated_actions(g.players[i])\n",
    "        if length(dominated)>=1 #if at least one dominated action was found\n",
    "            g = delete_action(g,dominated,i) #delete dominated actions of i from the game\n",
    "            deleteat!(surviving_actions[i],dominated) #delete the dominated actions \n",
    "            if i==1 #if we eliminated some action(s) of player 1, we move on to player 2\n",
    "                i=2\n",
    "            else #if we eliminated some action(s) of player i>1, we restart from player 1\n",
    "                i=1 \n",
    "            end\n",
    "        else\n",
    "            i=i+1\n",
    "        end\n",
    "    end\n",
    "    return g,surviving_actions\n",
    "end\n",
    "\n",
    "g_cournot_iesds, actions_iesds = iesds_aNames(g_cournot)\n",
    "println(g_cournot_iesds)\n",
    "println(actions_iesds)"
   ]
  },
  {
   "cell_type": "markdown",
   "id": "5553973c",
   "metadata": {},
   "source": [
    "So the actions 34 and 35 survive IESDS in the Cournot game. (These correspond to the quantities 0.33 and 0.34 and are the quantities that are used in Nash equilibrium.)"
   ]
  }
 ],
 "metadata": {
  "kernelspec": {
   "display_name": "Julia 1.11.0-rc3",
   "language": "julia",
   "name": "julia-1.11"
  },
  "language_info": {
   "file_extension": ".jl",
   "mimetype": "application/julia",
   "name": "julia",
   "version": "1.11.0"
  }
 },
 "nbformat": 4,
 "nbformat_minor": 5
}
